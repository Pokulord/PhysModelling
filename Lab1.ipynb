{
 "cells": [
  {
   "cell_type": "markdown",
   "metadata": {},
   "source": [
    "# Лабораторная работа 1. Вводная."
   ]
  },
  {
   "cell_type": "markdown",
   "metadata": {},
   "source": [
    "## Два раза кликните по блоку ниже (ФИО/Группа) и заполните ваше ФИО и номер группы."
   ]
  },
  {
   "cell_type": "markdown",
   "metadata": {},
   "source": [
    "    ФИО: Смирнов Дмитрий Сергеевич; Черников Святослав Сергеевич; Гордеев Андрей Григорьевич\n",
    "\n",
    "Группа: РИ-221055"
   ]
  },
  {
   "cell_type": "markdown",
   "metadata": {},
   "source": [
    "## Запуск кода\n",
    "\n",
    "Облачный сервис от Google https://colab.research.google.com/ для работы с Jupyter Notebook. Имеет возможность использования библиотеки TensorFlow для обучения нейронных сетей.\n",
    "\n",
    "Прежде всего, Jupyter Notebook - это интерактивная среда для написания и запуска кода. Ноутбук может запускать код на многих языках. Однако каждый ноутбук связан с одним ядром. Этот блокнот связан с ядром IPython, поэтому запускает код Python. Ядро можно увидеть справа в углу под кнопкой Logout."
   ]
  },
  {
   "cell_type": "markdown",
   "metadata": {},
   "source": [
    "Запустите ячейку кода, используя `Shift-Enter` или нажав на кнопку <button class='btn btn-default btn-xs'><i class=\"icon-step-forward fa fa-play\"></i></button> на панели инструментов выше"
   ]
  },
  {
   "cell_type": "code",
   "execution_count": 13,
   "metadata": {},
   "outputs": [],
   "source": [
    "a = 25"
   ]
  },
  {
   "cell_type": "markdown",
   "metadata": {},
   "source": [
    "Есть еще два сочетания клавиш для запуска кода:\n",
    "\n",
    "Alt-Enter запускает текущую ячейку и вставляет новую ниже.\n",
    "Ctrl-Enter запускает текущую ячейку и входит в командный режим."
   ]
  },
  {
   "cell_type": "markdown",
   "metadata": {},
   "source": [
    "Код выполняется в отдельном процессе, называемом ядром. Ядро можно прервать или перезапустить. Попробуйте запустить следующую ячейку и нажмите кнопку <button class = 'btn btn-default btn-xs'> <i class = 'icon-stop fa fa-stop'> </i> </button> на панели инструментов выше.\n",
    "\n",
    "Ядро поддерживает состояние вычислений notebook. Вы можете сбросить это состояние, перезапустив ядро. Это делается нажатием кнопки <button class = 'btn btn-default btn-xs'> <i class = 'fa fa-repeat icon-repeat'> </i> </button> на панели инструментов выше."
   ]
  },
  {
   "cell_type": "markdown",
   "metadata": {},
   "source": [
    "## Общая информация о Python"
   ]
  },
  {
   "cell_type": "markdown",
   "metadata": {},
   "source": [
    "Для изучения можно использовать материал в фале или курс на [введение в Python stepik.org](https://stepik.org/course/67/promo?search=2542677969) или [инди-курс stepik.org](https://stepik.org/course/63085/promo?search=2542677980)\n",
    "\n",
    "Для вывода результата можно использовать функцию print() примеры и описание возможностей можно посомтреть по ссылке https://pythonru.com/osnovy/python-print"
   ]
  },
  {
   "cell_type": "code",
   "execution_count": 14,
   "metadata": {},
   "outputs": [
    {
     "name": "stdout",
     "output_type": "stream",
     "text": [
      "25\n"
     ]
    }
   ],
   "source": [
    "print(a)"
   ]
  },
  {
   "cell_type": "markdown",
   "metadata": {},
   "source": [
    "### Типы данных\n",
    "Python - это императивный язык, основанный на утверждениях. То есть программы на Python состоят из строк, составленных из операторов. Операторы могут быть:\n",
    "* одно выражение\n",
    "* назначение\n",
    "* вызов функции\n",
    "* определение функции\n",
    "* оператор\n",
    "\n",
    "Выражения могут быть:\n",
    "* integer\n",
    "* float\n",
    "* complex numbers\n",
    "* strings\n",
    "* boolean values\n",
    "* lists \n",
    "* dicts\n",
    "* tuple"
   ]
  },
  {
   "cell_type": "code",
   "execution_count": 3,
   "metadata": {},
   "outputs": [
    {
     "data": {
      "text/plain": [
       "1"
      ]
     },
     "execution_count": 3,
     "metadata": {},
     "output_type": "execute_result"
    }
   ],
   "source": [
    "1 # integer"
   ]
  },
  {
   "cell_type": "code",
   "execution_count": 4,
   "metadata": {},
   "outputs": [
    {
     "data": {
      "text/plain": [
       "2.5"
      ]
     },
     "execution_count": 4,
     "metadata": {},
     "output_type": "execute_result"
    }
   ],
   "source": [
    "2.5 # float"
   ]
  },
  {
   "cell_type": "code",
   "execution_count": 5,
   "metadata": {},
   "outputs": [
    {
     "data": {
      "text/plain": [
       "'time'"
      ]
     },
     "execution_count": 5,
     "metadata": {},
     "output_type": "execute_result"
    }
   ],
   "source": [
    "'time' # string"
   ]
  },
  {
   "cell_type": "code",
   "execution_count": 6,
   "metadata": {},
   "outputs": [
    {
     "data": {
      "text/plain": [
       "True"
      ]
     },
     "execution_count": 6,
     "metadata": {},
     "output_type": "execute_result"
    }
   ],
   "source": [
    "True # boolean"
   ]
  },
  {
   "cell_type": "code",
   "execution_count": 7,
   "metadata": {},
   "outputs": [
    {
     "data": {
      "text/plain": [
       "False"
      ]
     },
     "execution_count": 7,
     "metadata": {},
     "output_type": "execute_result"
    }
   ],
   "source": [
    "False # boolean"
   ]
  },
  {
   "cell_type": "code",
   "execution_count": 1,
   "metadata": {},
   "outputs": [
    {
     "ename": "SyntaxError",
     "evalue": "invalid syntax (2640896180.py, line 1)",
     "output_type": "error",
     "traceback": [
      "\u001b[1;36m  Cell \u001b[1;32mIn[1], line 1\u001b[1;36m\u001b[0m\n\u001b[1;33m    Python имеет полезные структуры данных, встроенных в язык:\u001b[0m\n\u001b[1;37m           ^\u001b[0m\n\u001b[1;31mSyntaxError\u001b[0m\u001b[1;31m:\u001b[0m invalid syntax\n"
     ]
    }
   ],
   "source": [
    "Python имеет полезные структуры данных, встроенных в язык:\n",
    "* словари (хеш-таблицы): {ключ1:значение1, ключ2:значение2, ....}\n",
    "* списки: [элемент, ...]\n",
    "* кортежи: (элемент, ...)\n",
    "* множества: {элемент, ...}"
   ]
  },
  {
   "cell_type": "markdown",
   "metadata": {},
   "source": [
    "Cловарь (dictionary) в языке Python хранит коллекцию элементов, где каждый элемент имеет уникальный ключ и ассоциированое с ним некоторое значение.\n",
    "Определение в фигурных скобках через запятую определяется последовательность элементов, где для каждого элемента сначала указывается ключ и через двоеточие его значение.\n",
    "Подробнее смотри документацию https://metanit.com/python/tutorial/3.3.php"
   ]
  },
  {
   "cell_type": "code",
   "execution_count": 8,
   "metadata": {},
   "outputs": [
    {
     "data": {
      "text/plain": [
       "{'яблоко': 'фрукт', 'банан': 'трава', 'обезьяна': 'млекопитающее'}"
      ]
     },
     "execution_count": 8,
     "metadata": {},
     "output_type": "execute_result"
    }
   ],
   "source": [
    "{ \"яблоко\" :  \"фрукт\" ,  \"банан\" :  \"трава\" ,  \"обезьяна\" :  \"млекопитающее\" }"
   ]
  },
  {
   "cell_type": "markdown",
   "metadata": {},
   "source": [
    "Обращение"
   ]
  },
  {
   "cell_type": "code",
   "execution_count": 22,
   "metadata": {},
   "outputs": [
    {
     "data": {
      "text/plain": [
       "'гонка бегунов длиной около 26 миль'"
      ]
     },
     "execution_count": 22,
     "metadata": {},
     "output_type": "execute_result"
    }
   ],
   "source": [
    "dictionary = {'персона': 'человек',\n",
    "              'марафон': 'гонка бегунов длиной около 26 миль',\n",
    "              'противостоять': 'оставаться сильным, несмотря на давление',\n",
    "              'бежать': 'двигаться со скоростью'}\n",
    "dictionary['марафон']"
   ]
  },
  {
   "cell_type": "code",
   "execution_count": 29,
   "metadata": {},
   "outputs": [
    {
     "name": "stdout",
     "output_type": "stream",
     "text": [
      "{'tall': '3', 'weight': '54'}\n"
     ]
    }
   ],
   "source": [
    "animals = {\n",
    "    \"Cat\": {\n",
    "        \"tall\": \"3\",\n",
    "        \"weight\": \"54\"\n",
    "    },\n",
    "    \"Dog\": {\n",
    "        \"tall\": \"10\",\n",
    "        \"weight\": \"186\",\n",
    "        \"known\": \"eat\"\n",
    "    }\n",
    "}\n",
    "\n",
    "catTall= animals[\"Cat\"][\"tall\"]\n",
    "print(animals[\"Cat\"])  "
   ]
  },
  {
   "cell_type": "code",
   "execution_count": 28,
   "metadata": {},
   "outputs": [
    {
     "name": "stdout",
     "output_type": "stream",
     "text": [
      "Если мы попробуем получить значение по ключу, который отсутствует в словаре, Python сгенерирует исключение KeyError:\n"
     ]
    },
    {
     "ename": "KeyError",
     "evalue": "'known'",
     "output_type": "error",
     "traceback": [
      "\u001b[1;31m---------------------------------------------------------------------------\u001b[0m",
      "\u001b[1;31mKeyError\u001b[0m                                  Traceback (most recent call last)",
      "\u001b[1;32mc:\\Users\\User\\Documents\\Yulia_code\\Python_study\\CompModeling\\DP_lab1 Python.ipynb Ячейка 24\u001b[0m in \u001b[0;36m<cell line: 2>\u001b[1;34m()\u001b[0m\n\u001b[0;32m      <a href='vscode-notebook-cell:/c%3A/Users/User/Documents/Yulia_code/Python_study/CompModeling/DP_lab1%20Python.ipynb#Y135sZmlsZQ%3D%3D?line=0'>1</a>\u001b[0m \u001b[39mprint\u001b[39m(\u001b[39m'\u001b[39m\u001b[39mЕсли мы попробуем получить значение по ключу, который отсутствует в словаре, Python сгенерирует исключение KeyError:\u001b[39m\u001b[39m'\u001b[39m) \n\u001b[1;32m----> <a href='vscode-notebook-cell:/c%3A/Users/User/Documents/Yulia_code/Python_study/CompModeling/DP_lab1%20Python.ipynb#Y135sZmlsZQ%3D%3D?line=1'>2</a>\u001b[0m catKnown\u001b[39m=\u001b[39m animals[\u001b[39m\"\u001b[39;49m\u001b[39mCat\u001b[39;49m\u001b[39m\"\u001b[39;49m][\u001b[39m\"\u001b[39;49m\u001b[39mknown\u001b[39;49m\u001b[39m\"\u001b[39;49m]\n",
      "\u001b[1;31mKeyError\u001b[0m: 'known'"
     ]
    }
   ],
   "source": [
    "print('Если мы попробуем получить значение по ключу, который отсутствует в словаре, Python сгенерирует исключение KeyError:') \n",
    "catKnown= animals[\"Cat\"][\"known\"] "
   ]
  },
  {
   "cell_type": "markdown",
   "metadata": {},
   "source": [
    "Список (list) представляет тип данных, который хранит набор или последовательность элементов. Во многих языках программирования есть аналогичная структура данных, которая называется массив.Для создания списка применяются квадратные скобки [], внутри которых через запятую перечисляются элементы списка. Также для создания списка можно использовать функцию-конструктор list()\n",
    "\n",
    "Подробнее читай в документации https://metanit.com/python/tutorial/3.1.php"
   ]
  },
  {
   "cell_type": "code",
   "execution_count": 9,
   "metadata": {},
   "outputs": [
    {
     "data": {
      "text/plain": [
       "[1, 2, 3]"
      ]
     },
     "execution_count": 9,
     "metadata": {},
     "output_type": "execute_result"
    }
   ],
   "source": [
    "[1, 2, 3]"
   ]
  },
  {
   "cell_type": "code",
   "execution_count": 2,
   "metadata": {},
   "outputs": [
    {
     "name": "stdout",
     "output_type": "stream",
     "text": [
      "[1, 2, 3, 4, 5]\n",
      "[1, 2, 3, 4, 5]\n"
     ]
    }
   ],
   "source": [
    "numbers1 = [1, 2, 3, 4, 5, 6, 7]\n",
    "numbers2 = list(numbers1)\n",
    "print(numbers1)\n",
    "print(numbers2)"
   ]
  },
  {
   "cell_type": "markdown",
   "metadata": {},
   "source": [
    "Обращение к элементам"
   ]
  },
  {
   "cell_type": "code",
   "execution_count": 16,
   "metadata": {},
   "outputs": [
    {
     "name": "stdout",
     "output_type": "stream",
     "text": [
      "Исходный список ['Иван', 'Петр', 'Алексей', 'Сергей']\n",
      "получение элементов с начала списка\n",
      "Элемент 0 Иван\n",
      "Элемент 1 Петр\n",
      "Элемент 2 Алексей\n",
      "получение элементов с конца списка\n",
      "Элемент -2 Алексей\n",
      "Элемент -1 Сергей\n",
      "Элемент -3 Петр\n"
     ]
    }
   ],
   "source": [
    "people = [\"Иван\", \"Петр\", \"Алексей\", \"Сергей\"]\n",
    "print(f'Исходный список {people}')\n",
    "print('получение элементов с начала списка')\n",
    "print(f'Элемент 0 {people[0]}')\n",
    "print(f'Элемент 1 {people[1]}')\n",
    "print(f'Элемент 2 {people[2]}')\n",
    " \n",
    "print('получение элементов с конца списка')\n",
    "print(f'Элемент -2 {people[-2]}')\n",
    "print(f'Элемент -1 {people[-1]}')\n",
    "print(f'Элемент -3 {people[-3]}')"
   ]
  },
  {
   "cell_type": "markdown",
   "metadata": {},
   "source": [
    "Изменение элементов"
   ]
  },
  {
   "cell_type": "code",
   "execution_count": 17,
   "metadata": {},
   "outputs": [
    {
     "name": "stdout",
     "output_type": "stream",
     "text": [
      "Исходный список ['Иван', 'Петр', 'Алексей', 'Сергей']\n",
      "Наташа\n",
      "Измененный список ['Иван', 'Наташа', 'Алексей', 'Сергей']\n"
     ]
    }
   ],
   "source": [
    "people = [\"Иван\", \"Петр\", \"Алексей\", \"Сергей\"]\n",
    "print(f'Исходный список {people}')\n",
    " \n",
    "people[1] = \"Наташа\"\n",
    "print(people[1])\n",
    "print(f'Измененный список {people}') "
   ]
  },
  {
   "cell_type": "markdown",
   "metadata": {},
   "source": [
    "Кортеж (tuple) представляет последовательность элементов, которая во многом похожа на список за тем исключением, что кортеж является неизменяемым (immutable) типом. Поэтому мы не можем добавлять или удалять элементы в кортеже, изменять его. Для создания кортежа используются круглые скобки, в которые помещаются его значения, разделенные запятыми.\n",
    "\n",
    "Подробнее смотри в додкументации https://metanit.com/python/tutorial/3.2.php"
   ]
  },
  {
   "cell_type": "code",
   "execution_count": 10,
   "metadata": {},
   "outputs": [
    {
     "data": {
      "text/plain": [
       "(9, 7, 10)"
      ]
     },
     "execution_count": 10,
     "metadata": {},
     "output_type": "execute_result"
    }
   ],
   "source": [
    "( 9,  7, 10)"
   ]
  },
  {
   "cell_type": "markdown",
   "metadata": {},
   "source": [
    "Обращение к кортежам"
   ]
  },
  {
   "cell_type": "code",
   "execution_count": 19,
   "metadata": {},
   "outputs": [
    {
     "name": "stdout",
     "output_type": "stream",
     "text": [
      "Иван\n",
      "37\n",
      "студент бакалавриата\n"
     ]
    }
   ],
   "source": [
    "man = (\"Иван\", 37, \"Марья\", \"студент бакалавриата\")\n",
    "print(man[0])\n",
    "print(man[1])\n",
    "print(man[-1])"
   ]
  },
  {
   "cell_type": "markdown",
   "metadata": {},
   "source": [
    "Множество (set) представляют еще один вид набора, который хранит только уникальные элементы. Для определения множества используются фигурные скобки, в которых перечисляются элементы:\n",
    "\n",
    "Обратите внимание, что несмотря на то, что функция print вывела один раз элемент \"Tom\", хотя в определении множества этот элемент содержится два раза. Множество содержит только уникальные значения. Подробнее смотри документацию https://metanit.com/python/tutorial/3.4.php"
   ]
  },
  {
   "cell_type": "code",
   "execution_count": 30,
   "metadata": {},
   "outputs": [
    {
     "name": "stdout",
     "output_type": "stream",
     "text": [
      "{'Tom', 'Alice', 'Bob'}\n"
     ]
    }
   ],
   "source": [
    "users = {\"Tom\", \"Bob\", \"Alice\", \"Tom\"}\n",
    "print(users)    # {\"Alice\", \"Bob\", \"Tom\"}"
   ]
  },
  {
   "cell_type": "code",
   "execution_count": 1,
   "metadata": {},
   "outputs": [
    {
     "name": "stdout",
     "output_type": "stream",
     "text": [
      "green\n",
      "blue\n",
      "red\n"
     ]
    }
   ],
   "source": [
    "colors = {\"red\", \"green\", \"blue\"}\n",
    "\n",
    "for color in colors:\n",
    "    print(color)"
   ]
  },
  {
   "cell_type": "markdown",
   "metadata": {},
   "source": [
    "### Математические операторы\n",
    "\"+\" - сложение\n",
    "\n",
    "\"-\" - вычитание\n",
    "\n",
    "\"/\" - деление\n",
    "\n",
    "\"//\" - целочисленное деление\n",
    "\n",
    "\"%\" - остаток от деления\n",
    "\n",
    "\"*\" - умножение\n",
    "\n",
    "\"**\" - возведение в степень"
   ]
  },
  {
   "cell_type": "code",
   "execution_count": 46,
   "metadata": {},
   "outputs": [
    {
     "name": "stdout",
     "output_type": "stream",
     "text": [
      "a + b =  9\n",
      "a - b =  5\n",
      "a / b =  3.5\n",
      "a // b =  3\n",
      "a % b =  1\n",
      "a * b =  14\n",
      "a ** b =  49\n"
     ]
    }
   ],
   "source": [
    "a = 7\n",
    "b = 2\n",
    "print(\"a + b = \", a + b)\n",
    "print(\"a - b = \", a - b)\n",
    "print(\"a / b = \", a / b)\n",
    "print(\"a // b = \", a // b)\n",
    "print(\"a % b = \", a % b) # В данном случае ближайшее число к 7, которое делится на 2 без остатка, это 6. Поэтому остаток от деления равен 7 - 6 = 1\n",
    "print(\"a * b = \", a * b)\n",
    "print(\"a ** b = \", a ** b)"
   ]
  },
  {
   "cell_type": "markdown",
   "metadata": {},
   "source": [
    "#### Арифметические операции с присвоением\n",
    "Ряд специальных операций позволяют использовать присвоить результат операции первому операнду:\n",
    "\n",
    "\"+=\" - Присвоение результата сложения\n",
    "\n",
    "\"-=\" - Присвоение результата вычитания\n",
    "\n",
    "\"*=\" - Присвоение результата умножения\n",
    "\n",
    "\"/=\" - Присвоение результата от деления\n",
    "\n",
    "\"//=\" - Присвоение результата целочисленного деления\n",
    "\n",
    "\"**=\" - Присвоение степени числа\n",
    "\n",
    "\"%=\" - Присвоение остатка от деления"
   ]
  },
  {
   "cell_type": "markdown",
   "metadata": {},
   "source": [
    "### Логические операторы\n",
    "\n",
    "\"==\" - Возвращает True, если оба операнда равны. Иначе возвращает False.\n",
    "\n",
    "\"!=\" - Возвращает True, если оба операнда НЕ равны. Иначе возвращает False.\n",
    "\n",
    "\"> (больше чем)\" - Возвращает True, если первый операнд больше второго.\n",
    "\n",
    "\"< (меньше чем)\" - Возвращает True, если первый операнд меньше второго.\n",
    "\n",
    "\">= (больше или равно)\" - Возвращает True, если первый операнд больше или равен второму.\n",
    "\n",
    "\"<= (меньше или равно)\" - Возвращает True, если первый операнд меньше или равен второму.\n",
    "\n",
    "\"and\" - логическое умножение\n",
    "\n",
    "\"or\" - логическое сложение\n",
    "\n",
    "\"not\" - логическое отрицание"
   ]
  },
  {
   "cell_type": "code",
   "execution_count": 48,
   "metadata": {},
   "outputs": [
    {
     "name": "stdout",
     "output_type": "stream",
     "text": [
      "a > b = True\n",
      "a < b =  True\n",
      "a == b =  False\n",
      "a != b =  True\n",
      "a >= b =  True\n",
      "a < b and a > b =  False\n",
      "a < b or a > b =  True\n",
      "not a < b =  True\n"
     ]
    }
   ],
   "source": [
    "print(\"a > b =\",a > b)\n",
    "print(\"a < b = \",a > b)\n",
    "print(\"a == b = \",a == b)\n",
    "print(\"a != b = \",a != b)\n",
    "print(\"a >= b = \",a >= b)\n",
    "print(\"a < b and a > b = \", a < b and a > b)\n",
    "print(\"a < b or a > b = \", a < b or a > b)\n",
    "print(\"not a < b = \", not a < b)"
   ]
  },
  {
   "cell_type": "markdown",
   "metadata": {},
   "source": [
    "### Библиотеки\n",
    "\n",
    "Для того чтобы подключить библиотеку используйте функцию import\n",
    "Ниже ссылки на документацию основных используемых билотек в лабораторных работах.\n",
    "\n",
    "* numpy - поддержка больших многомерных массивов и матриц, вместе с большой библиотекой высокоуровневых математических функций для операций с этими массивами https://numpy.org/doc/\n",
    "* matplotlib - библиотека для отображения графиков http://matplotlib.org/api/pyplot_api.html\n",
    "* SciPy — предназначенная для выполнения научных и инженерных расчётов, содержит функции обработки сигналов https://www.scipy.org/docs.html\n",
    "* random - для генераторации случайных чисел и данных https://docs.python.org/3/library/random.html"
   ]
  },
  {
   "cell_type": "code",
   "execution_count": 2,
   "metadata": {},
   "outputs": [],
   "source": [
    "import numpy as np\n",
    "import scipy"
   ]
  },
  {
   "cell_type": "code",
   "execution_count": 3,
   "metadata": {},
   "outputs": [
    {
     "name": "stdout",
     "output_type": "stream",
     "text": [
      "3.141592653589793\n"
     ]
    }
   ],
   "source": [
    "print(np.pi)"
   ]
  },
  {
   "cell_type": "code",
   "execution_count": 4,
   "metadata": {},
   "outputs": [
    {
     "name": "stdout",
     "output_type": "stream",
     "text": [
      "<class 'numpy.ndarray'>\n",
      "(3,)\n",
      "1 2 3\n",
      "[5 2 3]\n",
      "(2, 3)\n",
      "1 2 4\n"
     ]
    }
   ],
   "source": [
    "a = np.array([1, 2, 3])   # Создание одномерной матрицы\n",
    "print(type(a))            # Prints \"<class 'numpy.ndarray'>\"\n",
    "print(a.shape)            # Prints \"(3,)\"\n",
    "print(a[0], a[1], a[2])   # Prints \"1 2 3\"\n",
    "a[0] = 5                  # Изменение элемента\n",
    "print(a)                  # Prints \"[5, 2, 3]\"\n",
    "\n",
    "b = np.array([[1,2,3],[4,5,6]])    # Создание двумерной матрицы\n",
    "print(b.shape)                     # Prints \"(2, 3)\"\n",
    "print(b[0, 0], b[0, 1], b[1, 0])   # Prints \"1 2 4\""
   ]
  },
  {
   "cell_type": "code",
   "execution_count": 5,
   "metadata": {},
   "outputs": [
    {
     "name": "stdout",
     "output_type": "stream",
     "text": [
      "[[ 4  5]\n",
      " [ 8 10]\n",
      " [12 15]]\n"
     ]
    }
   ],
   "source": [
    "v = np.array([1,2,3]) \n",
    "w = np.array([4,5])    \n",
    "print(np.reshape(v, (3, 1)) * w)"
   ]
  },
  {
   "cell_type": "markdown",
   "metadata": {},
   "source": [
    "### Matplotlib \n",
    "\n",
    "Это популярная библиотека для работы с научной графикой (графики, гистограммы и т.п.)\n",
    "\n",
    "Для работы требует наличия `Numpy`, однако позволяет строить графику даже на основе встроенных типов данных (списки, кортежи и т.п.)\n",
    "\n",
    "Для начала импортируем модуль MatplotLib. Нам потребуется один из его\n",
    "подмодулей, который отвечает за плоские графики - Pyplot.\n",
    "\n",
    "```Python\n",
    "import  matplotlib.pyplot  as  plt\n",
    "```\n",
    "\n",
    "Добавим немного магии, чтобы все генерируемые модулем изображения отображались сразу же после наших ячеек, а не в отдельных окнах браузера.\n",
    "\n",
    "```Python\n",
    "% matplotlib inline\n",
    "```\n"
   ]
  },
  {
   "cell_type": "code",
   "execution_count": 1,
   "metadata": {},
   "outputs": [
    {
     "name": "stderr",
     "output_type": "stream",
     "text": [
      "UsageError: Line magic function `%` not found.\n"
     ]
    }
   ],
   "source": [
    "import matplotlib.pyplot as plt\n",
    "% matplotlib inline\n",
    "\n",
    "plt.plot([5, 8, 2, 6, 1, 8, 2, 3, 4, 5, 6])"
   ]
  },
  {
   "cell_type": "code",
   "execution_count": 7,
   "metadata": {},
   "outputs": [
    {
     "data": {
      "image/png": "[encoded data removed]",
      "text/plain": [
       "<Figure size 432x288 with 1 Axes>"
      ]
     },
     "metadata": {
      "needs_background": "light"
     },
     "output_type": "display_data"
    }
   ],
   "source": [
    "x = np.arange(0, 3 * np.pi, 0.1)\n",
    "y_sin = np.sin(x)\n",
    "y_cos = np.cos(x)\n",
    "\n",
    "plt.plot(x, y_sin)\n",
    "plt.plot(x, y_cos)\n",
    "plt.xlabel('x axis label')\n",
    "plt.ylabel('y axis label')\n",
    "plt.title('Title')\n",
    "plt.legend(['Sine', 'Cosine'])\n",
    "plt.show()"
   ]
  },
  {
   "cell_type": "code",
   "execution_count": 8,
   "metadata": {},
   "outputs": [
    {
     "data": {
      "image/png": "[encoded data removed]",
      "text/plain": [
       "<Figure size 432x288 with 2 Axes>"
      ]
     },
     "metadata": {
      "needs_background": "light"
     },
     "output_type": "display_data"
    }
   ],
   "source": [
    "x = np.arange(0, 3 * np.pi, 0.1)\n",
    "y_sin = np.sin(x)\n",
    "y_cos = np.cos(x)\n",
    "\n",
    "plt.subplot(2, 1, 1)\n",
    "\n",
    "plt.plot(x, y_sin)\n",
    "plt.title('Sine')\n",
    "\n",
    "plt.subplot(2, 1, 2)\n",
    "plt.plot(x, y_cos)\n",
    "plt.title('Cosine')\n",
    "\n",
    "\n",
    "plt.show()"
   ]
  },
  {
   "cell_type": "markdown",
   "metadata": {},
   "source": [
    "Фигура - это всё изображение, с которым мы работаем.\n",
    "\n",
    "И только часть этого изображения будет графиком.\n",
    "\n",
    "Так часть, которая используется непосредственно для построения графика\n",
    "называется \"осями\". Важно, что если мы добавляем оси с помощью функции `add_axes`,\n",
    "то нам надо указать координату левого нижнего угла, ширину и высоту\n",
    "прямоугольника осей в долях от всей фигуры.\n",
    "\n",
    "Это позволяет на нанести на фигуру столько осей с графиками и в тех местах, где\n",
    "мы захотим, например, один внутри другого."
   ]
  },
  {
   "cell_type": "code",
   "execution_count": 3,
   "metadata": {},
   "outputs": [
    {
     "data": {
      "text/plain": [
       "[<matplotlib.lines.Line2D at 0x2067cd2dc10>]"
      ]
     },
     "execution_count": 3,
     "metadata": {},
     "output_type": "execute_result"
    },
    {
     "data": {
      "image/png": "[encoded data removed]",
      "text/plain": [
       "<Figure size 432x288 with 2 Axes>"
      ]
     },
     "metadata": {
      "needs_background": "light"
     },
     "output_type": "display_data"
    }
   ],
   "source": [
    "x = range(-10, 10)\n",
    "y = list(map(lambda x: x**2, x))\n",
    "\n",
    "fig = plt.figure()\n",
    "\n",
    "axes1 = fig.add_axes([0, 0, 1, 1])\n",
    "axes1.plot(x, y, 'r')\n",
    "\n",
    "axes2 = fig.add_axes([0.3, 0.5, 0.4, 0.4])\n",
    "axes2.plot(y, x)"
   ]
  },
  {
   "cell_type": "code",
   "execution_count": 45,
   "metadata": {},
   "outputs": [
    {
     "data": {
      "text/plain": [
       "6.62607015e-34"
      ]
     },
     "execution_count": 45,
     "metadata": {},
     "output_type": "execute_result"
    }
   ],
   "source": [
    "from scipy import constants\n",
    "constants.h"
   ]
  },
  {
   "cell_type": "markdown",
   "metadata": {},
   "source": [
    "Расчет дифференциального уравнения второго порядка для угла $\\theta$ маятника, на который действует сила тяжести с трением:\n",
    "$\\theta''(t) + b*\\theta'(t) + c*sin(\\theta(t)) = 0$, $b$ и $c$ — положительные константы\n",
    "\n",
    "Данное уравнение можно представить как систему уравнений\n",
    "\n",
    "$\\theta'(t) = \\omega(t)$\n",
    "\n",
    "$\\omega'(t) = -b*\\omega(t) - c*\\sin(\\theta(t))$\n",
    "\n",
    "Пусть $y$ будет вектором ${\\theta, \\omega}, тогда решение"
   ]
  },
  {
   "cell_type": "code",
   "execution_count": 10,
   "metadata": {},
   "outputs": [
    {
     "data": {
      "image/png": "[encoded data removed]",
      "text/plain": [
       "<Figure size 432x288 with 1 Axes>"
      ]
     },
     "metadata": {
      "needs_background": "light"
     },
     "output_type": "display_data"
    }
   ],
   "source": [
    "from scipy.integrate import odeint\n",
    "\n",
    "def pend(y, t, b, c):\n",
    "    theta, omega = y\n",
    "    dydt = [omega, -b*omega - c*np.sin(theta)]\n",
    "    return dydt\n",
    "\n",
    "\n",
    "b = 0.25\n",
    "c = 5.0\n",
    "y0 = [np.pi - 0.1, 0.0]\n",
    "t = np.linspace(0, 10, 101)\n",
    "\n",
    "sol = odeint(pend, y0, t, args=(b, c))\n",
    "\n",
    "plt.plot(t, sol[:, 0], 'b', label='theta(t)')\n",
    "plt.plot(t, sol[:, 1], 'g', label='omega(t)')\n",
    "plt.legend(loc='best')\n",
    "plt.xlabel('t')\n",
    "plt.grid()\n",
    "plt.show()"
   ]
  },
  {
   "cell_type": "code",
   "execution_count": 18,
   "metadata": {},
   "outputs": [
    {
     "name": "stdout",
     "output_type": "stream",
     "text": [
      "0.5118767294064384\n",
      "0.08952931801958447\n",
      "2.7261521470557577\n"
     ]
    }
   ],
   "source": [
    "import random\n",
    "print(random.random())\n",
    "print(random.gauss(mu=0.1, sigma=0.2))\n",
    "print(random.uniform(a=0, b=5))"
   ]
  },
  {
   "cell_type": "markdown",
   "metadata": {},
   "source": [
    "### Условия\n",
    "\n",
    "В Python есть условные операторы \"оператор выражение:\" строкой ниже идет инструкция, что делать в таком случае. Перед ней обязательно четыре пробела. Среды разработки обычно их ставят атоматом\n",
    "\n",
    "if выражение_1:\n",
    "    \n",
    "    инструкции_(блок_1)\n",
    "\n",
    "elif выражение_2:\n",
    "    \n",
    "    инструкции_(блок_2)\n",
    "\n",
    "elif выражение_n:\n",
    "    \n",
    "    инструкции_(блок_n)\n",
    "\n",
    "else:\n",
    "    \n",
    "    инструкции_(блок_4)"
   ]
  },
  {
   "cell_type": "code",
   "execution_count": 56,
   "metadata": {},
   "outputs": [
    {
     "name": "stdout",
     "output_type": "stream",
     "text": [
      "a > b\n"
     ]
    }
   ],
   "source": [
    "a = 10\n",
    "b = 5\n",
    "\n",
    "if a > b:\n",
    "    print('a > b')\n",
    "else:\n",
    "    print('a <= b')"
   ]
  },
  {
   "cell_type": "markdown",
   "metadata": {},
   "source": [
    "### Циклы\n",
    "так же двоеточие в конце выражени и после него четыре пробела!\n",
    "\n",
    "**С помощью конструкции while:**\n",
    "\n",
    "while выражение:\n",
    "\n",
    "    инструкция_1\n",
    "    \n",
    "    инструкция_2\n",
    "    \n",
    "    ...\n",
    "    \n",
    "    инструкция_n\n",
    "    \n",
    "Оператор break  предназначен для досрочного прерывания работы цикла while.\n",
    "\n",
    "Оператор continue  запускает цикл заново, при этом код, расположенный после данного оператора, не выполняется.\n",
    "\n",
    "**Конструкция for**\n",
    "\n",
    "Оператор for  выполняет указанный набор инструкций заданное количество раз, которое определяется количеством элементов в наборе.\n",
    "\n",
    "for счетчик:\n",
    "    \n",
    "    инструкция_1\n",
    "\n",
    "Внутри тела цикла можно использовать операторы break  и continue, принцип работы их точно такой же как и в операторе while."
   ]
  },
  {
   "cell_type": "code",
   "execution_count": 59,
   "metadata": {},
   "outputs": [
    {
     "name": "stdout",
     "output_type": "stream",
     "text": [
      "A\n",
      "A\n",
      "A\n",
      "A\n",
      "A\n",
      "A\n",
      "A\n"
     ]
    }
   ],
   "source": [
    "a = 0\n",
    "while a >= 0:\n",
    "   if a == 7:\n",
    "       break\n",
    "   a += 1\n",
    "   print(\"A\")"
   ]
  },
  {
   "cell_type": "code",
   "execution_count": 60,
   "metadata": {},
   "outputs": [
    {
     "name": "stdout",
     "output_type": "stream",
     "text": [
      "H\n",
      "e\n",
      "l\n",
      "l\n",
      "o\n",
      ",\n",
      " \n",
      "w\n",
      "o\n",
      "r\n",
      "l\n",
      "d\n",
      "!\n"
     ]
    }
   ],
   "source": [
    "word_str = \"Hello, world!\"\n",
    "for l in word_str:\n",
    "   print(l)"
   ]
  },
  {
   "cell_type": "markdown",
   "metadata": {},
   "source": [
    "### Функции\n",
    "\n",
    "Блок функции начинается с ключевого слова def, после которого следуют название функции и круглые скобки ( () ).\n",
    "Любые аргументы, которые принимает функция должны находиться внутри этих скобок.\n",
    "После скобок идет двоеточие ( : ) и с новой строки с отступом (4 пробела или tab) начинается тело функции.\n",
    "\n",
    "В данном языке так же можно делать лябдафункции, выносить функции как библиотеки. Так же можно вынести все функции в отдельный файл и с помощью импорта вызывать в файле с кодом.\n",
    "\n",
    "Подробнее см. https://pythonworld.ru/tipy-dannyx-v-python/vse-o-funkciyax-i-ix-argumentax.html и http://pythonicway.com/python-functions"
   ]
  },
  {
   "cell_type": "code",
   "execution_count": 2,
   "metadata": {},
   "outputs": [
    {
     "name": "stdout",
     "output_type": "stream",
     "text": [
      "1\n"
     ]
    }
   ],
   "source": [
    "# Задаем функцию \n",
    "def my_function(argument):\n",
    "    print(argument)\n",
    "\n",
    "# Вызвзаем функцкию\n",
    "my_function(1)"
   ]
  },
  {
   "cell_type": "markdown",
   "metadata": {},
   "source": [
    "### Лямбда функции\n",
    "\n",
    "Лямбда-выражения в языке Python представляют небольшие анонимные функции, которые определяются с помощью оператора lambda. Формальное определение лямбда-выражения: `lambda [параметры] : инструкция`\n",
    "\n",
    "`message = lambda: print(\"hello\")`\n",
    " \n",
    "Вызов `message()` выведет сообщение hello\n",
    "\n",
    "Здесь лямбда-выражение присваивается переменной message. Это лямбда-выражение не имеет параметров, ничего не возвращает и просто выводит строку \"hello\" на консоль. И через переменную message мы можем вызвать это лямбда-выражение как обычную функцию. Фактически оно аналогично следующей функции:\n",
    "\n",
    "`def message(): `\n",
    "    `print(\"hello\")`"
   ]
  },
  {
   "cell_type": "code",
   "execution_count": 20,
   "metadata": {},
   "outputs": [
    {
     "name": "stdout",
     "output_type": "stream",
     "text": [
      "16\n",
      "25\n"
     ]
    }
   ],
   "source": [
    "square = lambda n: n * n\n",
    " \n",
    "print(square(4))\n",
    "print(square(5)) "
   ]
  },
  {
   "cell_type": "markdown",
   "metadata": {},
   "source": [
    "Хотя лямбда-выражения позволяют немного сократить определения функций, тем не менее они ограничены тем, что они могут выполнять только одну инструкцию. Однако они могут быть довольно удобны в тех случаях, когда необходимо использовать функцию для передачи в качестве параметра или возвращения в другой функции. "
   ]
  },
  {
   "cell_type": "code",
   "execution_count": 21,
   "metadata": {},
   "outputs": [
    {
     "name": "stdout",
     "output_type": "stream",
     "text": [
      "result = 9\n",
      "result = 20\n"
     ]
    }
   ],
   "source": [
    "def do_operation(a, b, operation):\n",
    "    result = operation(a, b)\n",
    "    print(f\"result = {result}\")\n",
    "\n",
    "do_operation(5, 4, lambda a, b: a + b)\n",
    "do_operation(5, 4, lambda a, b: a * b)"
   ]
  },
  {
   "cell_type": "markdown",
   "metadata": {},
   "source": [
    "## Работа с файлами\n",
    "\n",
    "Python позволяет оперировать разными типами документов: текстовыми в любом формате, графическими, медиа, табличными и json. Для этого имеются соответствующие модули и пакеты (так встроенные, так и те, которые необходимо дополнительно установить), а также ряд функций.\n",
    "\n",
    "При работе с файлами в Python используется ряд функций и методов:\n",
    "- функция open() - открывает файл для чтения, записи, добавления нового содержимого. Может принимать дополнительные параметры: для задания режима открытия, указания кодировки, вывода ошибок и др. Возвращает дескриптор файла, который обязательно нужно закрыть, иначе файл останется в памяти. Дескриптор в данном случае представляет собой путь к документу в виде строки;\n",
    "- `close()` - закрывает файловый объект;\n",
    "- инструкция `with` (позволяет автоматически закрывать файловый объект после работы с ним);\n",
    "- метод `read()` - для чтения содержимого документа;\n",
    "- метод `readlines()` - преобразует все строки файла в список;\n",
    "- метод `readline()` - построчно выводит данные файла (удобно при работе с массивными документами);\n",
    "- метод `ewrit()` - записывает новую информацию в файл;\n",
    "- функция `rename()` из модуля os - переименовывает документ и др.\n",
    "\n",
    "\n",
    "`f = open('text.txt', 'r')` - открытие текстового файла для чтения\n",
    "\n",
    "`img = Image.open('pic.png')` - открываем PNG\n",
    "\n",
    "Pandas — одна из самых популярных библиотек Python для аналитики и работы с Data Science. Это как SQL для Python. Все потому, что pandas позволяет работать с двухмерными таблицами данных в Python. У нее есть и масса других особенностей. Данная библиотека позволяет работать с файлами форматов `*.xls`, `*.csv` и другие. https://pandas.pydata.org/"
   ]
  },
  {
   "cell_type": "markdown",
   "metadata": {},
   "source": [
    "## Задания\n",
    "Ниже 5 заданий на основы работы с Python. Под заданиями есть поле для ввода кода. Там необходимо написать решение и пример работы с полученным результатом."
   ]
  },
  {
   "cell_type": "code",
   "execution_count": 17,
   "metadata": {},
   "outputs": [],
   "source": [
    "# импорт библиотек\n",
    "%matplotlib inline\n",
    "import numpy as np\n",
    "import matplotlib.pyplot as plt"
   ]
  },
  {
   "cell_type": "markdown",
   "metadata": {},
   "source": [
    "### Задание 1 Простые функции\n",
    "\n",
    "1.1 Напишите функцию `listEnds`, которая на вход принимает список чисел (например, a = [2, 4, 6, 8, 10]) и выводит новый список только из первого и последнего элементов данного списка [2, 10].\n",
    "1.2 Напишите функцию, которая на вход принимает текст сообщения и выводить сообщение и текущее время.\n",
    "1.3 Напишите код, который использует функцию из 1.2 и выводит текущее время через 1, 5, 10 секунд\n",
    "\n",
    "Для 1.2 и 1.3 используйте модули `datetime` и `time`\n",
    " "
   ]
  },
  {
   "cell_type": "code",
   "execution_count": 2,
   "metadata": {},
   "outputs": [
    {
     "name": "stdout",
     "output_type": "stream",
     "text": [
      "2 10\n"
     ]
    }
   ],
   "source": [
    "def listEnds(a):\n",
    "    print(a[0], a[-1])\n",
    "    return \n",
    "\n",
    "# проверяем работу функции\n",
    "a = [2, 4, 6, 8, 10]\n",
    "listEnds(a)"
   ]
  },
  {
   "cell_type": "code",
   "execution_count": 15,
   "metadata": {},
   "outputs": [
    {
     "name": "stdout",
     "output_type": "stream",
     "text": [
      "Type your message : fsdadasw\n",
      "Введите задержку : 3\n",
      "На настоящий момент 18:52:56 Your message: fsdadasw\n",
      "На настоящий момент 18:52:59 Your message: fsdadasw\n",
      "На настоящий момент 18:53:02 Your message: fsdadasw\n",
      "На настоящий момент 18:53:05 Your message: fsdadasw\n"
     ]
    },
    {
     "ename": "KeyboardInterrupt",
     "evalue": "",
     "output_type": "error",
     "traceback": [
      "\u001b[1;31m---------------------------------------------------------------------------\u001b[0m",
      "\u001b[1;31mKeyboardInterrupt\u001b[0m                         Traceback (most recent call last)",
      "Cell \u001b[1;32mIn[15], line 15\u001b[0m\n\u001b[0;32m     13\u001b[0m cur_t \u001b[38;5;241m=\u001b[39m current_time()\n\u001b[0;32m     14\u001b[0m \u001b[38;5;28mprint\u001b[39m(\u001b[38;5;124mf\u001b[39m\u001b[38;5;124m\"\u001b[39m\u001b[38;5;124mНа настоящий момент \u001b[39m\u001b[38;5;132;01m{\u001b[39;00mcur_t\u001b[38;5;132;01m}\u001b[39;00m\u001b[38;5;124m\"\u001b[39m \u001b[38;5;241m+\u001b[39m \u001b[38;5;124mf\u001b[39m\u001b[38;5;124m\"\u001b[39m\u001b[38;5;124m Your message: \u001b[39m\u001b[38;5;132;01m{\u001b[39;00mmessage\u001b[38;5;132;01m}\u001b[39;00m\u001b[38;5;124m\"\u001b[39m)\n\u001b[1;32m---> 15\u001b[0m \u001b[43mtime\u001b[49m\u001b[38;5;241;43m.\u001b[39;49m\u001b[43msleep\u001b[49m\u001b[43m(\u001b[49m\u001b[43mtime_gap\u001b[49m\u001b[43m)\u001b[49m\n",
      "\u001b[1;31mKeyboardInterrupt\u001b[0m: "
     ]
    }
   ],
   "source": [
    "from datetime import datetime\n",
    "import time\n",
    "def current_time():\n",
    "    atpresent = datetime.now().strftime(\"%H:%M:%S\")\n",
    "    return atpresent\n",
    "\n",
    "\n",
    "\n",
    "if __name__ == \"__main__\":\n",
    "    message = input(\"Type your message : \")\n",
    "    time_gap = int(input(\"Введите задержку : \"))\n",
    "    while True:\n",
    "        cur_t = current_time()\n",
    "        print(f\"На настоящий момент {cur_t}\" + f\" Your message: {message}\")\n",
    "        time.sleep(time_gap)\n"
   ]
  },
  {
   "cell_type": "markdown",
   "metadata": {},
   "source": [
    "### Задание 2 Числа Фибоначчи\n",
    "\n",
    "Напишите программу, которая спрашивает пользователя, сколько чисел Фибоначчи нужно сгенерировать, а затем выводит числа ва строку Воспользуйтесь этой возможностью, чтобы подумать о том, как вы можете использовать функции. Обязательно попросите пользователя ввести количество чисел в последовательности, которую нужно сгенерировать.\n",
    "\n",
    "( Подсказка: последовательность Фибоначчи - это последовательность чисел, где следующее число в последовательности - это сумма двух предыдущих чисел в последовательности. выглядит так: 1, 1, 2, 3, 5, 8, 13,…  формулу легко можно найти в открытых источниках)"
   ]
  },
  {
   "cell_type": "code",
   "execution_count": null,
   "metadata": {},
   "outputs": [],
   "source": [
    "def fibonacci(count):\n",
    "    if count in {0,1}:\n",
    "        return count\n",
    "    return fibonacci(count-1) + fibonacci(count-2)\n",
    "\n",
    "\n",
    "\n",
    "rangee = int(input(\"Сколько чисел изволит ваша душа : \"))\n",
    "result = [fibonacci(elem) for elem in range(rangee)]\n",
    "print(f\"Результат выполнения {result}\")"
   ]
  },
  {
   "cell_type": "code",
   "execution_count": 15,
   "metadata": {},
   "outputs": [],
   "source": [
    "# дописать"
   ]
  },
  {
   "cell_type": "markdown",
   "metadata": {},
   "source": [
    "### Задание 4 Циклы\n",
    "\n",
    "1. Создать функцию, которая: \n",
    "   1. На вход принимает n\n",
    "   2. Генерирует матрицу n на n\n",
    "   3. Проверяет сумму чисел в диагонали\n",
    "      1. Если сумма чисел равна только в одной диагонали, то выводит сообщение 'Сумма одной диагонали {сумма}'\n",
    "      2. Если сумма чисел равна двух диагоналях, то выводит сообщение 'Сумма одной диагонали {сумма}, а второй {сумма 2}'\n",
    "      3. Иначе выводит сообщение 'Сумм нет'\n",
    "2. Написать функцию, которая:\n",
    "   1. Запрашивает у пользователя строку с логином\n",
    "   2. Проверяет строку на наличие логина в справочнике \"Мавпродош, Лорнектиф, Древерол, Фиригарпиг, Клодобродыч\"\n",
    "   3. Выводит сообщение с информации есть логин с таким именем или нет.\n",
    "   4. Функция запрашивает логин, пока пользователь не введет такой, который есть в справочнике. \n",
    "   5. Если было совпадение по логину функция завершает работу."
   ]
  },
  {
   "cell_type": "code",
   "execution_count": 1,
   "metadata": {},
   "outputs": [
    {
     "name": "stdout",
     "output_type": "stream",
     "text": [
      "[[2, 6, 6, 1, 6], [8, 3, 8, 4, 9], [3, 10, 2, 6, 3], [6, 3, 6, 9, 5], [3, 2, 3, 9, 8]]\n",
      "24 1\n",
      "25 2\n"
     ]
    }
   ],
   "source": [
    "from random import randint\n",
    "\n",
    "global a\n",
    "a = []\n",
    "\n",
    "def mat(m,n):\n",
    "    for i in range (m):\n",
    "        new_row = []\n",
    "        for j in range(n):\n",
    "            new_row.append(randint(1,10))\n",
    "        a.append(new_row)\n",
    "    return(a)\n",
    "\n",
    "print(mat(5,5))\n",
    "\n",
    "def summ1(m,n):\n",
    "    s=0\n",
    "    for i in range(m):\n",
    "        for j in range(n):\n",
    "            if i == j:\n",
    "                s += a[i][j]\n",
    "    return(s)\n",
    "print(summ1(5,5), 1)\n",
    "\n",
    "def summ2(m,n):\n",
    "    s=0\n",
    "    for i in range(m):\n",
    "        for j in range(n):\n",
    "            if i == j:\n",
    "                s += a[i][-j]\n",
    "    return(s)\n",
    "print(summ2(5,5), 2)\n"
   ]
  },
  {
   "cell_type": "markdown",
   "metadata": {},
   "source": [
    "### Задание 5 Графики\n",
    "\n",
    "1. Необходимо написать функции вычисления\n",
    "\n",
    "$f1 = 2x^2 + 6x + b$ -- синий\n",
    "\n",
    "$x^2 + (f2 - \\sqrt{|x|})^2 = 1$ - красный\n",
    "\n",
    "$b$ - последняя цифра в студенческом билете, если она 0, то первая не 0 цифра в номере.\n",
    "\n",
    "2. Построить графики функции:\n",
    "   1. Одно окно и два графика (subplot) \n",
    "   2. Оба графика в одном окне на одном графике в разных координатных осях (ось OY у одного графика слева, а у второго справа)\n",
    "   3. Подписать все оси и название графика и легенду."
   ]
  },
  {
   "cell_type": "code",
   "execution_count": null,
   "metadata": {},
   "outputs": [],
   "source": []
  }
 ],
 "metadata": {
  "kernelspec": {
   "display_name": "Python 3 (ipykernel)",
   "language": "python",
   "name": "python3"
  },
  "language_info": {
   "codemirror_mode": {
    "name": "ipython",
    "version": 3
   },
   "file_extension": ".py",
   "mimetype": "text/x-python",
   "name": "python",
   "nbconvert_exporter": "python",
   "pygments_lexer": "ipython3",
   "version": "3.10.9"
  },
  "vscode": {
   "interpreter": {
    "hash": "cf92aa13fedf815d5c8dd192b8d835913fde3e8bc926b2a0ad6cc74ef2ba3ca2"
   }
  }
 },
 "nbformat": 4,
 "nbformat_minor": 4
}
