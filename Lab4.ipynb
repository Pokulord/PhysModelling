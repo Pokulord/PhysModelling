{
 "cells": [
  {
   "cell_type": "markdown",
   "metadata": {},
   "source": [
    "# Лабораторная работа 3 Моделирование физических процессов описываемых ДУ первого и второго порядка"
   ]
  },
  {
   "cell_type": "markdown",
   "metadata": {},
   "source": [
    "## Два раза кликните по блоку ниже (ФИО/Группа) и заполните ваше ФИО и номер группы."
   ]
  },
  {
   "cell_type": "markdown",
   "metadata": {},
   "source": [
    "ФИО: \n",
    "\n",
    "Группа: "
   ]
  },
  {
   "cell_type": "markdown",
   "metadata": {},
   "source": [
    "## Подключите необходимые библиотеки для лабораторной работы"
   ]
  },
  {
   "cell_type": "code",
   "execution_count": 1,
   "metadata": {},
   "outputs": [],
   "source": [
    "import numpy as np\n",
    "import matplotlib.pyplot as plt\n",
    "from scipy.integrate import solve_ivp\n",
    "%matplotlib inline "
   ]
  },
  {
   "cell_type": "markdown",
   "metadata": {},
   "source": [
    "## Теория"
   ]
  },
  {
   "cell_type": "markdown",
   "metadata": {},
   "source": [
    "### Постановка задачи\n",
    "\n",
    "Природа переноса тепла от нагретого тела в окружающий его воздух весьма сложна и включает в себя механизмы конвекции, излучения, испарения и теплопроводности. Однако при небольшой разности температур между нагретым телом и окружающей средой для описания процесса остывания можно использовать простую модель,\n",
    "впервые предложенную И. Ньютоном. В данной модели температура холодильника\n",
    "(окружающей) принимается постоянной, а скорость передачи тепла от нагретого тела к холодильнику пропорциональной разности температур между ними. Это утверждение в математической формулировке записывается на языке дифференциальных\n",
    "уравнений (ДУ) в следующем виде:\n",
    "\n",
    "$\\frac{dT}{dt}=-r(T-T_s)$,      (2.1)\n",
    "\n",
    "где $T$ — температура нагретого тела, \n",
    "$T_s$ — температура окружающей среды\n",
    "$r$ — «коэффициент остывания». Значение «коэффициента остывания» зависит от механизма\n",
    "передачи, площади нагретого тела и тепловых свойств самого тела.\n",
    "\n",
    "Знак минус в (2.1) появляется во избежание физически ненаблюдаемой ситуации,\n",
    "когда $T > T_s$. Соотношение (2.1) называется законом теплопроводности Ньютона.\n",
    "Так как в уравнение (2.1) входит только первая производная неизвестной функции\n",
    "$T(t)$, его относят к ДУ первого порядка. В связи с тем, что большое количество физических процессов описывается данным классом ДУ, важно научиться находить их\n",
    "решения. По определению решением ДУ первого порядка, разрешенного относительно производной,\n",
    "\n",
    "$\\frac{dy}{dx} = f(x,y(x))$,       (2.2)\n",
    "\n",
    "называется дифференцируемая функция $y = \\phi(x)$, удовлетворяющая этому уравнению, то есть такая, что\n",
    "$\\phi'(x) ≡ f(x, \\phi(x))$ тождественно на некотором участке изменения. Задача нахождения решения уравнения (2.2), удовлетворяющего начальному условию $\\phi(x_0) = y_0$, называется задачей Коши.\n",
    "\n",
    "В общем случае уравнение (2.2) аналитического решения, выражающегося через\n",
    "элементарные функции, не имеет. Кроме того, даже при наличии аналитического\n",
    "решения представление его в графическом виде существенно облегчает его анализ. Отмеченные причины являются весьма важным аргументом в пользу нахождения приближенных численных решений ДУ.\n"
   ]
  },
  {
   "cell_type": "markdown",
   "metadata": {},
   "source": [
    "### Алгоритм Эйлера\n",
    "\n",
    "При численном решении вместо исходного ДУ ищется решение конечно-разностного ДУ. Переход к конечно-разностному уравнению от уравнения (2.2) осуществляется следующим образом. Вместо точного значения производной рассматривают ее\n",
    "разностный аналог:\n",
    "\n",
    "$\\frac{dy}{dx} \\rightarrow \\frac{y(x + \\Delta x) - y(x)}{\\Delta x}$,            (2.3)\n",
    "\n",
    "где $\\delta x$ — достаточно малая величина. Тогда в конечных разностях уравнение (2.2) принимает следующий вид: \n",
    "\n",
    "$\\frac{y(x + \\Delta x) − y(x)}{\\Delta x} = f(x,y(x))$.              (2.4)\n",
    "\n",
    "Из (2.4) сразу получаем формулу для нахождения значения функции $y = y(x)$ в\n",
    "точке $x + \\Delta x$:\n",
    "\n",
    "$y(x + \\Delta x) = y(x) + \\Delta x f(x, y(x))$.             (2.5)\n",
    "\n",
    "Из (2.5) видно, как построить алгоритм для решения задачи Коши:\n",
    "\n",
    "1. Задать начальные условия $(x_0, y_0)$.\n",
    "\n",
    "\n",
    "2. Вычислить в точке $x_1 = x_0 + \\Delta x$ значение функции $y = y(x)$, определяемое\n",
    "выражением (2.5): $y_1 = y_0 + \\Delta x f(x_0, y_0)$. (2.6)\n",
    "\n",
    "\n",
    "3. Повторить процедуру, описанную в п. 2, и найти значение функции $y = y(x)$ в\n",
    "точке $x_2 = x_1 + \\Delta x$ и так далее для всех значений переменной $x_n = x_0 + i \\Delta x$.\n",
    "\n",
    "Наиболее удобно записать данный алгоритм в виде следующей итерационной формулы:\n",
    "$y_i = y_{i−1} + \\Delta x f(x_{i−1}, y(x_{i−1})), i = 1, 2, ...$. (2.7)\n",
    "\n",
    "Величина шага $\\Delta$ зависит от конкретной задачи.\n",
    "\n",
    "Значение в n-й точке оценивается по значению функции и ее производной в $n − 1$-й точке, при этом принимается, что значение производной (то есть угол наклона касательной) на отрезке $[x_{i−1}; x_i]$ остается неизменным. Невыполнение данного условия приводит к отклонению численного решения от точного решения. Данное отклонение может быть уменьшено уменьшением $\\Delta x$.\n"
   ]
  },
  {
   "cell_type": "markdown",
   "metadata": {},
   "source": [
    "### Решение ДУ первого порядка\n",
    "\n",
    "Приступая к разработке программы вне зависимости от использованного языка\n",
    "программирования, необходимо разбить всю задачу на последовательность независимых заданий, соответствующих алгоритму, описанному в предыдущем разделе. Программа должна состоять из следующих блоков:\n",
    "\n",
    "1. Задание начальных условий.\n",
    "   \n",
    "2. Задание функции $f(x, y(x))$.\n",
    "\n",
    "3. Задание отрезка, на котором ищется решение, и шага интегрирования. (Отметим, что на практике оказывается более удобным задавать не шаг интегрирования, а количество интервалов, на которые разбивается отрезок интегрирования,\n",
    "а затем вычислять значение шага.)\n",
    "\n",
    "4. Вычисление координат точек, в которых ищется решение дифференциального\n",
    "уравнения.\n",
    "\n",
    "5. Решение уравнения (2.2) методом Эйлера.\n",
    "\n",
    "6. Вывод результатов."
   ]
  },
  {
   "cell_type": "markdown",
   "metadata": {},
   "source": [
    "## Решение задачи Коши для ДУ методом Эйлера:\n",
    "\n",
    "$y'= −y^2 + x$ с начальным условием $y(0) = 1$."
   ]
  },
  {
   "cell_type": "code",
   "execution_count": 9,
   "metadata": {},
   "outputs": [],
   "source": [
    "def f(x:float, y:float) -> float:\n",
    "    \"\"\"\n",
    "    f(x,y) - функция, стоящая в правой части ДУ\n",
    "\n",
    "    Args:\n",
    "        x (float): координата x\n",
    "        y (float): координата y\n",
    "    \"\"\"\n",
    "    return x - y ** 2\n",
    "\n",
    "def Euler(y0:float = 0, \n",
    "          x0:float = 1, \n",
    "          x1:float = 10, \n",
    "          N : int = 100):\n",
    "    \"\"\"\n",
    "    Функция, возвращающая численные решения ДУ\n",
    "    первого порядка методом Эйлера\n",
    "\n",
    "    Args:\n",
    "        y0 (float): начальный y\n",
    "        x0 (float): начальный x\n",
    "        x1 (float): правая граница отрезка\n",
    "        N (int): число узлов координатной сетки\n",
    "    \"\"\"\n",
    "    # Вычисление шага интеграции\n",
    "    dx = \n",
    "    \n",
    "    # Задать начальные условия\n",
    "    x = \n",
    "    y = \n",
    "    x.append(x0)\n",
    "    y.append(y0)\n",
    "    \n",
    "    # Реализация вычислительной схемы Эйлера\n",
    "    for i in range(N):\n",
    "            \n",
    "    return x, y"
   ]
  },
  {
   "cell_type": "code",
   "execution_count": 10,
   "metadata": {},
   "outputs": [
    {
     "data": {
      "text/plain": [
       "[<matplotlib.lines.Line2D at 0x298d9293e80>]"
      ]
     },
     "execution_count": 10,
     "metadata": {},
     "output_type": "execute_result"
    },
    {
     "data": {
      "image/png": "[encoded data removed]",
      "text/plain": [
       "<Figure size 432x288 with 1 Axes>"
      ]
     },
     "metadata": {
      "needs_background": "light"
     },
     "output_type": "display_data"
    }
   ],
   "source": [
    "x0 = 0\n",
    "y0 = 1\n",
    "x1 = 10\n",
    "N = 100\n",
    "\n",
    "x,y = Euler(y0, x0, x1, N)\n",
    "plt.plot(x,y)"
   ]
  },
  {
   "cell_type": "markdown",
   "metadata": {},
   "source": [
    "## Моделирование радиоактивного распада"
   ]
  },
  {
   "cell_type": "markdown",
   "metadata": {},
   "source": [
    "Ядерный распад зависит только от внутренних свойств данного типа атомного ядра. Особенность атомных ядер состоит в том, что они могут распадаться. Вероятность распада описывается выражением:\n",
    "\n",
    "$\\lambda = \\frac{1}{N} \\frac{dN}{dt}$ , (2.38)\n",
    "\n",
    "$\\frac{dN}{dt} = -\\lambda N$\n",
    "\n",
    "где $N(t)$ — количество ядер в образце в момент времени $t$, $\\lambda$ — константа экспоненциального затухания, $dN$ — количество ядер в образце в момент времени $dt$:\n",
    "\n",
    " $dN = N(t) − N(t + dt)$. (2.39)\n",
    "\n",
    "Тогда скорость распада определяется как\n",
    "\n",
    "$\\frac{dN}{dt} = −\\lambda N$. (2.40)\n",
    "\n",
    "Уравнение (2.38) называется уравнением распада. Оно является ДУ первого порядка с разделяющимися переменными, которое может быть легко проинтегрировано. Его решение имеет следующий вид:\n",
    "\n",
    "$N(t) = N_0 e^{−\\lambda t}$, (2.41)\n",
    "\n",
    "где $N_0$ — число ядер в момент времени $t = 0$."
   ]
  },
  {
   "cell_type": "markdown",
   "metadata": {},
   "source": [
    "### Реализовать функцию вероятности радиоактивного распада $\\frac{dN}{dt} = -\\lambda N$\n"
   ]
  },
  {
   "cell_type": "code",
   "execution_count": null,
   "metadata": {},
   "outputs": [],
   "source": [
    "# код"
   ]
  },
  {
   "cell_type": "markdown",
   "metadata": {},
   "source": [
    "### Реализовать модель радиоактивного распада для раных $\\lambda$ от 0.1 до 1 с шагом 0.1\n",
    "\n",
    "Построить графики для этих моделей в отдельным окне\n",
    "\n",
    "Можно использовать решатели дифференциальных уравнений Python [scipy.integrate](https://docs.scipy.org/doc/scipy/reference/integrate.html)"
   ]
  },
  {
   "cell_type": "code",
   "execution_count": 95,
   "metadata": {},
   "outputs": [
    {
     "data": {
      "text/plain": [
       "Text(0, 0.5, 'Название')"
      ]
     },
     "execution_count": 95,
     "metadata": {},
     "output_type": "execute_result"
    },
    {
     "data": {
      "image/png": "[encoded data removed]",
      "text/plain": [
       "<Figure size 432x288 with 1 Axes>"
      ]
     },
     "metadata": {
      "needs_background": "light"
     },
     "output_type": "display_data"
    }
   ],
   "source": [
    "# код"
   ]
  },
  {
   "cell_type": "markdown",
   "metadata": {},
   "source": [
    "## Моделирование динамики материальной точки\n",
    "\n",
    "Большинство задач, связанных с определением закона движения тела вблизи земной поверхности, имеют известные аналитические решения. Несмотря на это, мы считаем полезным вновь вернуться к этим задачам и получить их решения с помощью\n",
    "ПК, поскольку здесь можно продемонстрировать наиболее общие приемы и подходы\n",
    "к решению физических задач на ПК.\n",
    "\n",
    "Отметим, что при решении данных задач используется простейшая модель, в которой не учитываются возможные вращения и внутренние движения тела, то есть\n",
    "реальное физическое тело заменяется идеализированным объектом, не обладающим\n",
    "внутренней структурой, — материальной точкой. Задача описания закона движения\n",
    "материальной точки традиционно рассматривается в кинематике, где движение материальной точки рассматривается безотносительно причины ее вызывающей, и динамике, где рассматриваются силы, действующие на тело. В соответствии со вторым законом Ньютона ускорение $\\vec{a}$, с которым движется тело, прямо пропорционально действующей на него силе $\\vec{F}$ (а если сил, приложенных к материальной точке, несколько,\n",
    "то их равнодействующей, то есть векторной сумме сил) и обратно пропорционально\n",
    "его массе $m$:\n",
    "\n",
    "$\\vec{a} = \\frac{\\vec{F}}{m}$\n",
    "\n",
    "В общем случае сила $\\vec{F}(t)$ зависит от положения точки, характеризуемого радиусом-вектором $\\vec{F}(t)$, скорости $\\vec{v}(t)$ и времени:\n",
    "\n",
    "$\\vec{F}(t) = \\vec{F}(t, \\vec{r}, \\vec{v})$.\n",
    "\n",
    "Тот факт, что силы, действующие на тело, не зависят от производных скорости,\n",
    "является свойством природы, но не следствием математического описания. Это свойство позволяет найти простые объяснения для многих наблюдаемых на практике движений. Так как по определению\n",
    "\n",
    "$\\vec{a} = \\frac{d\\vec{v}}{dt} = \\frac{d^2\\vec{r}}{dt^2}$\n",
    "\n",
    "то зависимость скорости от времени описывается уравнением\n",
    "\n",
    "$\\frac{d\\vec{v}}{dt} = \\frac{\\vec{F}}{m}$ (3.2)\n",
    "\n",
    "а зависимость координаты от времени —\n",
    "\n",
    "$\\frac{d^2\\vec{r}}{dt^2} = \\frac{\\vec{F}}{m}$ (3.3)\n",
    "\n",
    "поэтому для описания движения материальной точки необходимо решить ДУ второго\n",
    "порядка относительно координаты (3.3), которое для тела с постоянной массой эквивалентно системе ДУ первого порядка\n",
    "\n",
    "$\\vec{v}(t) = \\frac{d}{dt}\\vec{r}$ и $\\vec{a}(t) = \\frac{d}{dt}\\vec{v}$ (3.4)\n",
    "\n",
    "Для описания движения тела с переменной массой $m(t)$ необходимо решать уравнение движения, в которых масса является функцией времени:\n",
    "\n",
    "$\\frac{d\\vec{p}}{dt} = \\frac{d}{dt}[m(t)\\vec{v}(t)] = \\frac{dm(t)}{dt} \\vec{v}(t) + m(t)\\frac{d\\vec{v}(t)}{dt} = \\vec{F}(t)$\n",
    "\n",
    "называемое уравнением Мещерского"
   ]
  },
  {
   "cell_type": "markdown",
   "metadata": {},
   "source": [
    "### Движение тел в гравитационном поле без учета трения\n",
    "\n",
    "Рассмотрим задачу об одномерном движении материальной точки с постоянной\n",
    "массой в гравитационном поле Земли. В соответствии с законом всемирного тяготения сила, действующая на тело массы $m$, равна\n",
    "\n",
    "$F = \\frac{\\gamma Mm}{(R+y)^2} = \\frac{gm}{(1 + y\\R)^2}$, (3.5)\n",
    "\n",
    "где $y$ — расстояние от поверхности Земли, $R$ — радиус Земли, $g$ — гравитационная\n",
    "постоянная, $M$ — масса Земли, $g = \\gamma M/R^2$. При этом на первом шаге будем считать силу тяжести постоянной, что справедливо, как видно из (3.5), для случая, когда\n",
    "$y/R ≪ 1$.\n",
    "\n",
    "Выберем систему отсчета с положительным направлением координатной оси вверх. Подставляя (3.5) в (3.3), получаем уравнение движения в выбранной системе отсчета\n",
    "\n",
    "$\\frac{d^2 y}{dt^2} = -g$. (3.6)\n",
    "\n",
    "Данное уравнение является ДУ второго порядка, для которого задача Коши ставится заданием начальных условий: значений координаты $y(0) = y_0$ и скорости $v(0) = y'(0) = v_0$. Аналитический ответ может быть получен последовательным интегрированием (3.6):\n",
    "\n",
    "$v(t) = v_0 − g t$, (3.7)\n",
    "\n",
    "$y(t) = y_0 + v_0t + 0.5gt^2$. (3.8)\n",
    "\n",
    "Поскольку большинство решателей работают с системами ОДУ, приведенными к форме Коши, необходимо привести системе ОДУ второго порядка к системе\n",
    "обыкновенных дифференциальных уравнений первого порядка, введя новую переменную\n",
    "\n",
    "$\\frac{dy}{dt} = z$. (3.9)\n",
    "\n",
    "Тогда уравнение (3.6) принимает следующий вид:\n",
    "\n",
    "$\\frac{dz}{dt} = −g$. (3.10)\n",
    "\n",
    "Уравнения (3.9), (3.10), образующие систему ОДУ первого порядка, как очевидно,\n",
    "можно записать в матричном виде\n",
    "\n",
    "$\\frac{d}{dt} \\left ( \\begin{matrix}\n",
    "y\\\\\n",
    "z\n",
    "\\end{matrix} \\right )  = \\left ( \\begin{matrix}\n",
    "z\\\\\n",
    "-g\n",
    "\\end{matrix} \\right )$. (3.11)\n",
    "\n",
    "Запись системы в виде (3.11) позволяет создать m-файл, содержащий описание\n",
    "вектора-функции, стоящей в правой части (3.11):\n"
   ]
  },
  {
   "cell_type": "markdown",
   "metadata": {},
   "source": [
    "#### Реализация задачи с начальными условиями $y(0)=10$, $y'(0)=1$ для $t$ от 0 до 1.5 с шагом 0.01"
   ]
  },
  {
   "cell_type": "code",
   "execution_count": 50,
   "metadata": {},
   "outputs": [
    {
     "data": {
      "text/plain": [
       "Text(0, 0.5, 'Название')"
      ]
     },
     "execution_count": 50,
     "metadata": {},
     "output_type": "execute_result"
    },
    {
     "data": {
      "image/png": "[encoded data removed]",
      "text/plain": [
       "<Figure size 432x288 with 1 Axes>"
      ]
     },
     "metadata": {
      "needs_background": "light"
     },
     "output_type": "display_data"
    },
    {
     "data": {
      "image/png": "[encoded data removed]",
      "text/plain": [
       "<Figure size 432x288 with 1 Axes>"
      ]
     },
     "metadata": {
      "needs_background": "light"
     },
     "output_type": "display_data"
    }
   ],
   "source": [
    "# код"
   ]
  },
  {
   "cell_type": "markdown",
   "metadata": {},
   "source": [
    "### Движение тел в гравитационном поле с учетом силы трения"
   ]
  },
  {
   "cell_type": "markdown",
   "metadata": {},
   "source": [
    "Ранее мы рассмотрели движение тел в гравитационном поле\n",
    "Земли без учета сил сопротивления, действующих на тело со стороны среды, через\n",
    "которую оно движется. При движении реальных тел в газовой или жидкой средах,\n",
    "как показывают результаты экспериментов, сила трения является главным фактором,\n",
    "который определяет характер движения тела.\n",
    "О силе сопротивления, действующей на движущееся в среде тело, известно, что\n",
    "она (за исключением некоторых отдельных случаев) увеличивается с ростом скорости.\n",
    "Наиболее общими зависимостями силы сопротивления от скорости являются\n",
    "\n",
    "$F_d(v) = k_1v$, (3.15)\n",
    "\n",
    "$Fd(v) = k_2v^2$. (3.16)\n",
    "\n",
    "где параметры $k_1$, $k_2$ зависят от свойств среды и геометрии тела.\n",
    "Особо отметим, что зависимости (3.15), (3.16) не являются точными законами физики, но представляют собой феноменологические выражения, приближенно описывающие функцию Fd(v) в некоторых диапазонах скоростей.\n",
    "При относительно малых скоростях сила сопротивления описывается выражением (3.15). Для тел, имеющих относительно простую форму, известны аналитические\n",
    "выражения коэффициентов k1. Например, для шарика радиуса r коэффициент сопротивления задается формулой Стокса:\n",
    "\n",
    "$k_1 = 6\\pi \\mu r$, (3.17)\n",
    "\n",
    "где $\\mu$ — динамическая вязкость среды.\n",
    "\n",
    "Числовые значения плотности и динамической вязкости различных сред при\n",
    "$t = 20$ $C^{\\circ}$ и давлении 1 атм представлены в таблице.\n",
    "\n",
    "|       | Вода   | Воздух | Глицерин |\n",
    "|-------|--------|--------|----------|\n",
    "| $\\rho$, $кг/m^3$ | 1.29   | 1000   | 1290     |\n",
    "| $\\mu$, $ (Н · с)/м^2 $ | 0.0182 | 1.002  | 1480     |\n",
    "\n",
    "Представляет практический интерес оценить величину предельной скорости v1 движения шара, падающего вертикально, то есть скорости движения, при которой сила тяжести будет равна силе трения:\n",
    "\n",
    "$6\\pi \\mu r v_1 = mg$, (3.18)\n",
    "\n",
    "откуда\n",
    "\n",
    "$v_1 = \\frac{mg}{6\\pi \\mu r}  = \\frac{4/3 \\pi r^3 \\rho g}{6 \\pi \\mu r} = \\frac{2r^2  \\rho g}{9 \\mu}$, (3.19)\n",
    "\n",
    "где $\\rho$ — плотность тела.\n",
    "\n",
    "Значения предельной скорости $v_1$ для шара радиусом $r = 0, 1$ м, $\\rho$ = 0,8·103 кг/м3 (дерево) представлены в таблице\n",
    "\n",
    "|       | Вода   | Воздух | Глицерин |\n",
    "|-------|--------|--------|----------|\n",
    "| $v$, м/с | 960   | 17   | 0.012     |\n",
    "\n",
    "При больших скоростях сила сопротивления описывается выражением (3.16). Из\n",
    "экспериментов о величине $k_2$ известно, что она пропорциональна площади поперечного к потоку сечения тела $S$, плотности среды $\\rho$ и зависит от формы тела. Данную\n",
    "зависимость принято выражать следующей формулой:\n",
    "\n",
    "$k_2 = \\frac{1}{2} cS \\rho_0$, (3.20)\n",
    "\n",
    "где $c$ — безразмерный коэффициент (коэффициент формы), характеризующий лобовое сопротивление, $\\rho$ — плотность среды. \n",
    "\n",
    "Проведем аналогичные оценки предельной скорости $v_2$ для квадратичного закона\n",
    "сопротивления. Приравнивая силу сопротивления и силу тяжести, имеем\n",
    "\n",
    "$cS \\frac{\\rho_0}{2} v^2_2=mg$, (3.21)\n",
    "\n",
    "откуда\n",
    "\n",
    "$v_2 = \\sqrt{\\frac{2mg}{\\rho}}$ (3.22)\n",
    "\n",
    "или\n",
    "\n",
    "$v2 = \\sqrt{\\frac{2\\rho · 4/3 \\pi r^3 g}{c\\pi r^2 \\rho_0}}$. (3.23) \n",
    "\n",
    "Значения предельной скорости $v_2$ для шара радиусом $r = 0,1$ м, $\\rho = 0,8·103 кг/м^3$ (дерево) представлены в таблице\n",
    "\n",
    "|       | Вода   | Воздух | Глицерин |\n",
    "|-------|--------|--------|----------|\n",
    "| $v$, м/с | 0.65   | 18   | 0.58     |\n",
    "\n",
    "Для дальнейшего анализа особенностей движения тел в гравитационном поле Земли при наличии силы сопротивления удобно измерять скорость движения в единицах\n",
    "установившейся скорости $v_1$, $v_2$. В выбранных единицах измерения выражения (3.15), (3.16) принимают следующий вид:\n",
    "\n",
    "$Fd = k_1v_1(\\frac{v}{v_1})= mg(\\frac{v}{v_1})$, (3.24)\n",
    "\n",
    "$Fd = k_2v_2(\\frac{v}{v_2})^2= mg(\\frac{v}{v_2})^2$, (3.25)\n",
    "\n",
    "Рассмотрим падение тела вертикально вниз с нулевой начальной скоростью при\n",
    "наличии силы сопротивления. Так как сила сопротивления зависит от скорости, при\n",
    "аналитическом решении данной задачи удобно использовать уравнение движения в\n",
    "форме (3.2):\n",
    "\n",
    "$\\frac{dv}{dt} = − \\frac{mg - F_d}{m} = − \\frac{mg - mg(\\frac{v}{v_1}) - mg(\\frac{v}{v_2})^2 }{m} = −g (1 - \\frac{v}{v_1} - (\\frac{v}{v_2})^2)$, (3.26)\n",
    "\n",
    "которое, как очевидно, является ОДУ с разделяющимися переменными и может\n",
    "быть легко проинтегрировано аналитически. Повторным интегрированием зависимости $v = v(t)$ находят зависимость координаты материальной точки от скорости. Дополнив уравнение (3.26) уравнением\n",
    "\n",
    "$\\frac{dx}{dt} = v$, (3.27)\n",
    "\n",
    "получаем систему дифференциальных уравнений, которую можно решить в численно."
   ]
  },
  {
   "cell_type": "markdown",
   "metadata": {},
   "source": [
    "#### Смоделировать задачу\n",
    "\n",
    "Для значений предельной скорости, представленных в таблицах 1 и 2,\n",
    "решите уравнение движения (3.26) и постройте зависимости $x = x(t)$,\n",
    "$y = y(t)$, $v = v(y)$.\n",
    "\n",
    "Таблица 1\n",
    "|       | Вода   | Воздух | Глицерин |\n",
    "|-------|--------|--------|----------|\n",
    "| $v$, м/с | 960   | 17   | 0.012     |\n",
    "\n",
    "Таблица 2\n",
    "|       | Вода   | Воздух | Глицерин |\n",
    "|-------|--------|--------|----------|\n",
    "| $v$, м/с | 0.65   | 18   | 0.58     |\n",
    "\n"
   ]
  },
  {
   "cell_type": "code",
   "execution_count": 97,
   "metadata": {},
   "outputs": [
    {
     "data": {
      "text/plain": [
       "Text(0, 0.5, 'Название')"
      ]
     },
     "execution_count": 97,
     "metadata": {},
     "output_type": "execute_result"
    },
    {
     "data": {
      "image/png": "[encoded data removed]",
      "text/plain": [
       "<Figure size 432x288 with 1 Axes>"
      ]
     },
     "metadata": {
      "needs_background": "light"
     },
     "output_type": "display_data"
    },
    {
     "data": {
      "image/png": "[encoded data removed]",
      "text/plain": [
       "<Figure size 432x288 with 1 Axes>"
      ]
     },
     "metadata": {
      "needs_background": "light"
     },
     "output_type": "display_data"
    }
   ],
   "source": [
    "# код"
   ]
  },
  {
   "cell_type": "markdown",
   "metadata": {},
   "source": [
    "## Выводы по работе"
   ]
  },
  {
   "cell_type": "markdown",
   "metadata": {},
   "source": [
    "Выводы"
   ]
  }
 ],
 "metadata": {
  "kernelspec": {
   "display_name": "Python 3.9.4 64-bit",
   "language": "python",
   "name": "python3"
  },
  "language_info": {
   "codemirror_mode": {
    "name": "ipython",
    "version": 3
   },
   "file_extension": ".py",
   "mimetype": "text/x-python",
   "name": "python",
   "nbconvert_exporter": "python",
   "pygments_lexer": "ipython3",
   "version": "3.9.4"
  },
  "orig_nbformat": 4,
  "vscode": {
   "interpreter": {
    "hash": "cf92aa13fedf815d5c8dd192b8d835913fde3e8bc926b2a0ad6cc74ef2ba3ca2"
   }
  }
 },
 "nbformat": 4,
 "nbformat_minor": 2
}
