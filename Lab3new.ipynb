{
 "cells": [
  {
   "cell_type": "markdown",
   "metadata": {},
   "source": [
    "# Лабораторная работа 3\n",
    "\n",
    "Необходимо выполнить все задания нарисовать блок-схему решения задачи и написать код на языке Python3\n"
   ]
  },
  {
   "cell_type": "markdown",
   "metadata": {},
   "source": [
    "ФИО Черников Святослав Сергеевич\n"
   ]
  },
  {
   "cell_type": "markdown",
   "metadata": {},
   "source": [
    "## Задание 1\n",
    "\n",
    "Написать функцию, которая на вход получает значение x, а на выходе отдает значение вычисленной функции $$F(x) = \\left\\{\\begin{matrix}\n",
    "\\sin 3x + \\cos 5x, x >  0\\\\ \n",
    "\\sin2x, x\\leq 0\n",
    "\\end{matrix}\\right.$$"
   ]
  },
  {
   "cell_type": "code",
   "execution_count": 8,
   "metadata": {},
   "outputs": [
    {
     "name": "stdout",
     "output_type": "stream",
     "text": [
      "Введите значение x : -1\n",
      "Значение функции = -0.91\n"
     ]
    }
   ],
   "source": [
    "import numpy as np\n",
    "def CountValueOfSystem(value:int) -> int:\n",
    "    if value > 0:\n",
    "        return round(np.sin(3*value) + np.cos(5*value), 2)\n",
    "    else:\n",
    "        return round(np.sin(2*value),2)\n",
    "\n",
    "arg = int(input(\"Введите значение x : \"))\n",
    "result = CountValueOfSystem(arg)\n",
    "print(f\"Значение функции = {result}\")"
   ]
  },
  {
   "cell_type": "markdown",
   "metadata": {},
   "source": [
    "## Задание 2\n",
    "\n",
    "Написать функцию, которая на вход получает массив значений x, а на выходе отдает массив значений  вычисленной функции $$F(x) = \\left\\{\\begin{matrix}\n",
    "\\sin 3x + \\cos 5x, x >  0\\\\ \n",
    "\\sin2x, x\\leq 0\n",
    "\\end{matrix}\\right.$$"
   ]
  },
  {
   "cell_type": "code",
   "execution_count": 12,
   "metadata": {},
   "outputs": [
    {
     "name": "stdout",
     "output_type": "stream",
     "text": [
      "Массив, который подаётся функции на вход : [4, 7, 10, 19, 8, 4, 3, 13, 12, 19] \n",
      "Результат вычислений : [-0.13, -0.07, -0.02, 1.17, -1.57, -0.13, -0.35, 0.4, -1.94, 1.17]\n"
     ]
    }
   ],
   "source": [
    "#! На вход подаётся массив из 10 чисел, а возвращается массив значений функции\n",
    "# при каждом из аргументов \n",
    "\n",
    "import numpy as np\n",
    "from random import randint\n",
    "\n",
    "def CountValueOfSystem(x:int) -> int : \n",
    "    if x > 0:\n",
    "        return round(np.sin(3*x) + np.cos(5*x), 2)\n",
    "    else:\n",
    "        return round(np.sin(2*x),2)\n",
    "\n",
    "list_of_values = [randint(1,20) for value in range(10)]\n",
    "list_of_counted = [CountValueOfSystem(value) for value in list_of_values]\n",
    "print(f\"Массив, который подаётся функции на вход : {list_of_values} \\nРезультат вычислений : {list_of_counted}\")"
   ]
  },
  {
   "cell_type": "markdown",
   "metadata": {},
   "source": [
    "## Задание 3\n",
    "\n",
    "Написать функцию расчета действительных корней квадратного уравнения вида: $$ax^2+bx+c=0$$\n",
    "Функция запрашивает вводом с клавиатуры действительные коэффициенты a, b и с. \n",
    "Функция выводит действительные корни уравнения $x_1$ и  $x_2$:\n",
    "```\n",
    "Корни уравнения\n",
    "x1 =\n",
    "x2 =\n",
    "```\n",
    "\n",
    "или\n",
    "\n",
    "```\n",
    "Корни уравнения\n",
    "x1 = x2 =\n",
    "```\n",
    "\n",
    "или\n",
    "\n",
    "```\n",
    "Действительных корней нет\n",
    "```\n",
    "\n",
    "или\n",
    "\n",
    "```\n",
    "Действительный корень x = \n",
    "```"
   ]
  },
  {
   "cell_type": "code",
   "execution_count": 14,
   "metadata": {},
   "outputs": [
    {
     "name": "stdout",
     "output_type": "stream",
     "text": [
      "Дискриминант = 24.0\n",
      "Действительный корень x1= 0.2898979485566356\n",
      "Действительный корень x2= -0.6898979485566356\n"
     ]
    }
   ],
   "source": [
    "import numpy as np\n",
    "def RootsOfTheEquation(a,b,c):\n",
    "    discriminant = b**2 - 4*a*c\n",
    "    print(f\"Дискриминант = {discriminant}\")\n",
    "    if discriminant < 0:\n",
    "        return \"Действительных корней нет\"\n",
    "    elif discriminant == 0:\n",
    "        root = (-b+np.sqrt(discriminant))/(2*a)\n",
    "        return f\"Действительный корень x= {root}\"\n",
    "    elif discriminant > 0: \n",
    "        root_1 = (-b+np.sqrt(discriminant))/(2*a)\n",
    "        root_2 = (-b-np.sqrt(discriminant))/(2*a)\n",
    "        if root_1 == root_2:\n",
    "            return f\"x1=x2={root_1}\"\n",
    "        return f\"Действительный корень x1= {root_1}\\nДействительный корень x2= {root_2}\"\n",
    "\n",
    "\n",
    "\n",
    "\n",
    "\n",
    "a,b,c = map(float,input(\"Введите a,b,c через пробел\").split())\n",
    "result = RootsOfTheEquation(a,b,c)\n",
    "print(result)"
   ]
  },
  {
   "cell_type": "markdown",
   "metadata": {},
   "source": [
    "## Задание 4\n",
    "\n",
    "Функция получает на вход действительное число $h$. Вычисляет корни уравнения $ax^2+bx+c=0$ действительные корни, если\n",
    "$$a = \\sqrt{\\frac{|\\sin(8h)|+17}{(1-\\sin(4h)\\cos(h^2+18))^2}}$$\n",
    "$$b = 1 - \\sqrt{\\frac{3}{3+|\\tan(ah^2)-\\sin(ah)|}}$$\n",
    "$$ с=ah^2\\sin(bh)+bh3\\cos(ah)$$\n",
    "\n",
    "Если корни существуют, то выводит их, иначе выводит сообщение, что корней нет.\n"
   ]
  },
  {
   "cell_type": "code",
   "execution_count": 21,
   "metadata": {},
   "outputs": [
    {
     "name": "stdout",
     "output_type": "stream",
     "text": [
      "a = 3.4, b = 0.2, c = 5367.4\n",
      "Дискриминант = -72996.6\n",
      "Действительных корней нет\n"
     ]
    }
   ],
   "source": [
    "import numpy as np\n",
    "import math as m\n",
    "\n",
    "\n",
    "def Rootsmodify(h):\n",
    "    a = round((m.sqrt((abs(np.sin(8*h)) + 17)/ ((1-np.sin(4*h) * np.cos(h**2+18)))**2)),1)\n",
    "    b = round((1-m.sqrt(3/(3+abs(np.tan(a*h**2) - np.sin(a*h))))),1)\n",
    "    c = round((a*h**2*np.sin(b*h) + b*h*3*np.cos(a*h)),1)\n",
    "    print(f\"a = {a}, b = {b}, c = {c}\")\n",
    "\n",
    "    discriminant = round((b**2 - 4*a*c),2)\n",
    "    print(f\"Дискриминант = {discriminant}\")\n",
    "    if discriminant < 0:\n",
    "        return \"Действительных корней нет\"\n",
    "    elif discriminant == 0:\n",
    "        root = (-b+np.sqrt(discriminant))/(2*a)\n",
    "        return f\"Действительный корень x= {root}\"\n",
    "    elif discriminant > 0: \n",
    "        root_1 = round(((-b+np.sqrt(discriminant))/(2*a)),2)\n",
    "        root_2 = round(((-b-np.sqrt(discriminant))/(2*a)),2)\n",
    "        if root_1 == root_2:\n",
    "            return f\"x1=x2={root_1}\"\n",
    "        return f\"Действительный корень x1= {root_1}\\nДействительный корень x2= {root_2}\"\n",
    "    \n",
    "\n",
    "\n",
    "h = float(input(\"Пожалуйста, введите h\"))\n",
    "\n",
    "print(Rootsmodify(h))\n",
    "\n"
   ]
  },
  {
   "cell_type": "markdown",
   "metadata": {},
   "source": [
    "## Задание 5\n",
    "\n",
    "Функция получает на вход действительные числа $a$, $b$, $c$, $x$, $y$ и вычисляет, пройдет ли кирпич с ребрами $a$, $b$, $c$ в прямоугольное отверстие со сторонами $x$, $y$. Результат работы функции сообщение пройдет кирпич или нет"
   ]
  },
  {
   "cell_type": "code",
   "execution_count": 6,
   "metadata": {},
   "outputs": [
    {
     "name": "stdout",
     "output_type": "stream",
     "text": [
      "Кирпич не пройдёт\n"
     ]
    }
   ],
   "source": [
    "def CheckBrick(a, b, c, x, y):\n",
    "    if (a <= x and b <= y) or (a <= y and b <= x) or (a <= x and c <= y) or (a <= y and c <= x) or (b <= x and c <= y) or (b <= y and c <= x):\n",
    "        return True \n",
    "    return False\n",
    "\n",
    "\n",
    "a,b,c,x,y = map(float, input(\"Введите данные через пробел\").split())\n",
    "\n",
    "if CheckBrick(a,b,c,x,y): \n",
    "    print(\"Кирпич пройдёт\")\n",
    "else:\n",
    "    print(\"Кирпич не пройдёт\")"
   ]
  },
  {
   "cell_type": "markdown",
   "metadata": {},
   "source": [
    "## Задание 6\n",
    "Написать функцию, которая получает на вход дату рождения ДД.ММ.ГГГГ и выводит сообщение \n",
    "```\n",
    "Возраст человека n дней\n",
    "```\n",
    "\n",
    "n это количество сколько дней человеку от дня запуска функции"
   ]
  },
  {
   "cell_type": "code",
   "execution_count": 27,
   "metadata": {},
   "outputs": [
    {
     "name": "stdout",
     "output_type": "stream",
     "text": [
      "Сегодня 29.10.23 \n",
      "Кол-во дней с момента вашего рождения составляет 7777\n"
     ]
    }
   ],
   "source": [
    "from datetime import datetime as dt\n",
    "\n",
    "DATEFORMAT = \"%d.%m.%Y\"\n",
    "\n",
    "def HowManyDaysFromCurDay(DateOfBirth,CDate):\n",
    "    # Вычисляем разницу между датами и выводим именно количество дней без секунд \n",
    "    difference = (CDate - DateOfBirth).days\n",
    "    return difference\n",
    "\n",
    "DateOfBirth = dt.strptime(input(\"Введите дату рождения в формате ДД.ММ.ГГГГ\"), DATEFORMAT)\n",
    "CurDate = dt.now()\n",
    "DaysCount = HowManyDaysFromCurDay(DateOfBirth,CurDate)\n",
    "\n",
    "print(f\"Сегодня {CurDate.strftime('%d.%m.%y')} \\nКол-во дней с момента вашего рождения составляет {DaysCount}\")"
   ]
  },
  {
   "cell_type": "markdown",
   "metadata": {},
   "source": [
    "## Задание 7\n",
    "\n",
    "Написать функцию, которая на вход получает имя пользователя и название дня недели, а выводит план мероприятий на этот день\n",
    "\n",
    "Например, Максим: в субботу – еду в баню, воскресенье – еду в гости и т.д."
   ]
  },
  {
   "cell_type": "code",
   "execution_count": 1,
   "metadata": {},
   "outputs": [
    {
     "name": "stdout",
     "output_type": "stream",
     "text": [
      "Свят, в день недели Среда у вас на повестке дня Программирование\n"
     ]
    }
   ],
   "source": [
    "THINGS_2_DO = {\n",
    "    \"Максим\" : [\n",
    "        {\n",
    "        'Понедельник' : 'День - бездельник',\n",
    "        'Вторник' : 'Занятия по гитаре',\n",
    "        }\n",
    "    ],\n",
    "    \"Свят\" : [ {\n",
    "        'Среда': \"Программирование\",\n",
    "        \"Четверг\" : \"Лениться\",\n",
    "        }\n",
    "    ],\n",
    "}\n",
    "\n",
    "def Check(name):\n",
    "    flag = False\n",
    "    if name in THINGS_2_DO.keys():\n",
    "        flag = True\n",
    "    return flag\n",
    "\n",
    "def WhatShouldIDo(name=None,dayoftheweek=None) -> str:\n",
    "    if name and dayoftheweek is None:\n",
    "        return \"Пожалуйста, введите данные полностью\"\n",
    "    if dayoftheweek not in THINGS_2_DO[name][0] :\n",
    "        return f\"{name}, в этот день вы свободны\"\n",
    "    return f\"{name}, в день недели {dayoftheweek} у вас на повестке дня {THINGS_2_DO[name][0][dayoftheweek]}\"\n",
    "\n",
    "YourName = input('Пожалуйста, введите ваше имя: ')\n",
    "if Check(YourName):\n",
    "    DayOfTheWeek = input('Пожалуйста, введите день, на который вы хотите узнать список дел : ')\n",
    "    result = WhatShouldIDo(YourName, DayOfTheWeek)\n",
    "    print(result)\n",
    "else:\n",
    "    print(f'{YourName}, вас нет в списке')"
   ]
  },
  {
   "cell_type": "markdown",
   "metadata": {},
   "source": [
    "## Задание 8\n",
    "\n",
    "Начав тренировки, лыжник в первый день пробегал 10 км. Каждый следующий день он увеличивал длину пробега на 10% от предыдущего дня. Определить, в какой день он пробежит больше 20 км, в какой день суммарный пробег за все дни превысит 100 км.\n",
    "\n",
    "Написать функцию, которая на вход получает количество км, а выводит через сколько дней от начала тренировок лыжник суммарно за все дни пробежит больше введенного значения."
   ]
  },
  {
   "cell_type": "code",
   "execution_count": 61,
   "metadata": {},
   "outputs": [
    {
     "name": "stdout",
     "output_type": "stream",
     "text": [
      "11.0\n",
      "12.1\n",
      "13.309999999999999\n",
      "14.640999999999998\n",
      "16.105099999999997\n",
      "17.715609999999998\n",
      "19.487170999999996\n",
      "21.435888099999996\n",
      "В день номер 9 лыжником будет преодолена дистанция больше 20 км \n",
      "[11.0, 12.1, 13.309999999999999, 14.640999999999998, 16.105099999999997, 17.715609999999998, 19.487170999999996]\n",
      "Лыжник пробежит в общем больше 100 км за 8 дней/дня \n",
      "Лыжник пробежит больше 1000 км за 25 дней\n"
     ]
    }
   ],
   "source": [
    "distance_per_days = []\n",
    "\n",
    "def Skiman(max_value):\n",
    "    total_kilometers = 10\n",
    "    days = 0\n",
    "    distance_per_days = []\n",
    "    while sum(distance_per_days) <= max_value:\n",
    "        total_kilometers += total_kilometers*0.1\n",
    "        distance_per_days.append(total_kilometers)\n",
    "        days += 1\n",
    "    return days\n",
    "\n",
    "\n",
    "\n",
    "\n",
    "\n",
    "kilometers = 10\n",
    "days = 1\n",
    "\n",
    "while kilometers <= 20:\n",
    "    kilometers += kilometers * 0.1\n",
    "    days +=1\n",
    "\n",
    "print(f\"В день номер {days} лыжником будет преодолена дистанция больше 20 км \")\n",
    "\n",
    "days = 1\n",
    "total_kilometers = 10\n",
    "\n",
    "while sum(distance_per_days) <= 100:\n",
    "    total_kilometers += total_kilometers*0.1\n",
    "    distance_per_days.append(total_kilometers)\n",
    "    days += 1\n",
    "\n",
    "print(distance_per_days)\n",
    "print(f\"Лыжник пробежит в общем больше 100 км за {days} дней/дня \")\n",
    "\n",
    "\n",
    "\n",
    "\n",
    "whats_max = int(input(\"Сколько лыжник должен пробежать? \"))\n",
    "\n",
    "how_many_days = Skiman(whats_max)\n",
    "\n",
    "print(f\"Лыжник пробежит больше {whats_max} км за {how_many_days} дней\")\n"
   ]
  },
  {
   "cell_type": "markdown",
   "metadata": {},
   "source": [
    "## Задание 9\n",
    "\n",
    "Написать функцию, которая на вход принимает двумерный массив и номер строки сортировки, а выводит двумерный массив, у которого элементы указанной строки упорядочены по убыванию. Номер управляющей строки вводить с клавиатуры. \n",
    "\n",
    "Например, пусть исходный массив имеет вид:\n",
    "$$\\begin{matrix}\n",
    "1 & 23 & 56 & 7 \\\\ \n",
    "44 & 5 & 38 & 9 \\\\ \n",
    "2 & 78 & 23 & 5 \n",
    "\\end{matrix}$$\n",
    "номер управляющей строки – 3, тогда результирующий массив будет вы-глядеть так:\n",
    "$$\\begin{matrix}\n",
    "1 & 23 & 56 & 7 \\\\ \n",
    "44 & 5 & 38 & 9 \\\\ \n",
    "2 & 5 & 23 & 78 \n",
    "\\end{matrix}$$\n"
   ]
  },
  {
   "cell_type": "code",
   "execution_count": 3,
   "metadata": {},
   "outputs": [
    {
     "name": "stdout",
     "output_type": "stream",
     "text": [
      "Изначальная матрица :\n",
      "50\t70\t55\t78\n",
      "88\t54\t6\t63\n",
      "75\t84\t95\t98\n",
      "Вводимое число должно быть целочисленным и удовлетворять заданному диапазону\n",
      "Вводимое число должно быть целочисленным и удовлетворять заданному диапазону\n",
      "Матрица с отсортированной строкой 3\n",
      "50\t70\t55\t78\n",
      "88\t54\t6\t63\n",
      "75\t84\t95\t98\n"
     ]
    }
   ],
   "source": [
    "from random import randint\n",
    "\n",
    "\n",
    "# Функция для красивого вывода матрицы\n",
    "def beauty_matrix(matrix):\n",
    "    print('\\n'.join('\\t'.join(map(str, row)) for row in matrix)) # \\t выступает в качестве символа табуляции\n",
    "\n",
    "def sort_matrix(matrix,string_number):\n",
    "    string_2_sort = matrix[string_number]\n",
    "    length_of_string = len(string_2_sort)\n",
    "    # Применяем сортировку пузырьком\n",
    "    for i in range(length_of_string - 1):\n",
    "        for j in range(length_of_string-i-1):\n",
    "            if string_2_sort[j] > string_2_sort[j+1]:\n",
    "                string_2_sort[j] , string_2_sort[j+1] = string_2_sort[j+1], string_2_sort[j]\n",
    "    matrix[string_number] = string_2_sort\n",
    "\n",
    "    return matrix\n",
    "\n",
    "\n",
    "\n",
    "\n",
    "generated_martix = [[randint(1,100) for row in range(4)] for jcolumn in range(3)]\n",
    "print(\"Изначальная матрица :\")\n",
    "beauty_matrix(generated_martix)\n",
    "while True:\n",
    "    try:\n",
    "        what_string_need_2_sort = input(\"Какую строчку нужно отсортировать ? \\n Допустимые значения от 1 до 4\")\n",
    "        if not what_string_need_2_sort.isnumeric():\n",
    "            raise ValueError\n",
    "        what_string_need_2_sort = int(what_string_need_2_sort)\n",
    "        if what_string_need_2_sort not in {number for number in range(1,5)}:\n",
    "            raise ValueError\n",
    "        else:\n",
    "            break\n",
    "    except ValueError:\n",
    "        print(\"Вводимое число должно быть целочисленным и удовлетворять заданному диапазону\")\n",
    "\n",
    "\n",
    "print(f\"Матрица с отсортированной строкой {what_string_need_2_sort}\")\n",
    "sorted_matrix = sort_matrix(generated_martix,what_string_need_2_sort-1)\n",
    "beauty_matrix(sorted_matrix)\n",
    "\n",
    "\n",
    "\n",
    "\n"
   ]
  },
  {
   "cell_type": "markdown",
   "metadata": {},
   "source": [
    "## Задание 10\n",
    "\n",
    "Написать функцию, которая получает на вход значения $a$ и $b$ и вычисляет интеграл\n",
    "\n",
    "$$\\int_{a}^{b}\\cos e^xdx$$\n",
    "\n",
    "методом прямоугольников при n=100 (n – число интервалов разбиения)"
   ]
  },
  {
   "cell_type": "code",
   "execution_count": null,
   "metadata": {},
   "outputs": [],
   "source": []
  }
 ],
 "metadata": {
  "kernelspec": {
   "display_name": "Python 3",
   "language": "python",
   "name": "python3"
  },
  "language_info": {
   "codemirror_mode": {
    "name": "ipython",
    "version": 3
   },
   "file_extension": ".py",
   "mimetype": "text/x-python",
   "name": "python",
   "nbconvert_exporter": "python",
   "pygments_lexer": "ipython3",
   "version": "3.10.6"
  },
  "vscode": {
   "interpreter": {
    "hash": "b15bcabe262813e5478adecf0f69c8a0ad3534d5445c6cc8292ca39294366738"
   }
  }
 },
 "nbformat": 4,
 "nbformat_minor": 2
}
